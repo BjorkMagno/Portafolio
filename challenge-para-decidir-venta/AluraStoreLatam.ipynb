{
  "nbformat": 4,
  "nbformat_minor": 0,
  "metadata": {
    "colab": {
      "provenance": [],
      "include_colab_link": true
    },
    "kernelspec": {
      "name": "python3",
      "display_name": "Python 3"
    },
    "language_info": {
      "name": "python"
    }
  },
  "cells": [
    {
      "cell_type": "markdown",
      "metadata": {
        "id": "view-in-github",
        "colab_type": "text"
      },
      "source": [
        "<a href=\"https://colab.research.google.com/github/BjorkMagno/Portafolio/blob/main/challenge-para-decidir-venta/AluraStoreLatam.ipynb\" target=\"_parent\"><img src=\"https://colab.research.google.com/assets/colab-badge.svg\" alt=\"Open In Colab\"/></a>"
      ]
    },
    {
      "cell_type": "markdown",
      "source": [
        "La documentación utilizada es vista en\n",
        "- https://pandas.pydata.org/docs/user_guide/dsintro.html#alternate-constructors\n",
        "- https://www.w3schools.com/python/matplotlib_pie_charts.asp"
      ],
      "metadata": {
        "id": "hZSv2EyyE8zO"
      }
    },
    {
      "cell_type": "markdown",
      "source": [
        "### Importación de datos\n",
        "\n"
      ],
      "metadata": {
        "id": "RhEdWd9YUR6H"
      }
    },
    {
      "cell_type": "code",
      "source": [
        "# Importación de Paquetes para datos y operaciones.\n",
        "import math\n",
        "import pandas as pd"
      ],
      "metadata": {
        "id": "0SZnmx5GahTb"
      },
      "execution_count": 1,
      "outputs": []
    },
    {
      "cell_type": "code",
      "execution_count": 2,
      "metadata": {
        "colab": {
          "base_uri": "https://localhost:8080/",
          "height": 310
        },
        "id": "T3EvaeQ_INIL",
        "outputId": "cd6b722b-8645-45a2-91e0-7040405ecf44"
      },
      "outputs": [
        {
          "output_type": "execute_result",
          "data": {
            "text/plain": [
              "            Producto Categoría del Producto    Precio  Costo de envío  \\\n",
              "0  Asistente virtual           Electrónicos  164300.0          6900.0   \n",
              "1    Mesa de comedor                Muebles  192300.0          8400.0   \n",
              "2      Juego de mesa               Juguetes  209600.0         15900.0   \n",
              "3         Microondas      Electrodomésticos  757500.0         41000.0   \n",
              "4   Silla de oficina                Muebles  335200.0         20200.0   \n",
              "\n",
              "  Fecha de Compra         Vendedor Lugar de Compra  Calificación  \\\n",
              "0      16/01/2021      Pedro Gomez          Bogotá             4   \n",
              "1      18/05/2022  Beatriz Morales        Medellín             1   \n",
              "2      15/03/2021   Juan Fernandez       Cartagena             1   \n",
              "3      03/05/2022   Juan Fernandez            Cali             4   \n",
              "4      07/11/2020    Maria Alfonso        Medellín             5   \n",
              "\n",
              "       Método de pago  Cantidad de cuotas       lat       lon  \n",
              "0  Tarjeta de crédito                   8   4.60971 -74.08175  \n",
              "1  Tarjeta de crédito                   4   6.25184 -75.56359  \n",
              "2  Tarjeta de crédito                   1  10.39972 -75.51444  \n",
              "3               Nequi                   1   3.43722 -76.52250  \n",
              "4               Nequi                   1   6.25184 -75.56359  "
            ],
            "text/html": [
              "\n",
              "  <div id=\"df-cb7e21d1-3c47-4232-b670-d555929f7c29\" class=\"colab-df-container\">\n",
              "    <div>\n",
              "<style scoped>\n",
              "    .dataframe tbody tr th:only-of-type {\n",
              "        vertical-align: middle;\n",
              "    }\n",
              "\n",
              "    .dataframe tbody tr th {\n",
              "        vertical-align: top;\n",
              "    }\n",
              "\n",
              "    .dataframe thead th {\n",
              "        text-align: right;\n",
              "    }\n",
              "</style>\n",
              "<table border=\"1\" class=\"dataframe\">\n",
              "  <thead>\n",
              "    <tr style=\"text-align: right;\">\n",
              "      <th></th>\n",
              "      <th>Producto</th>\n",
              "      <th>Categoría del Producto</th>\n",
              "      <th>Precio</th>\n",
              "      <th>Costo de envío</th>\n",
              "      <th>Fecha de Compra</th>\n",
              "      <th>Vendedor</th>\n",
              "      <th>Lugar de Compra</th>\n",
              "      <th>Calificación</th>\n",
              "      <th>Método de pago</th>\n",
              "      <th>Cantidad de cuotas</th>\n",
              "      <th>lat</th>\n",
              "      <th>lon</th>\n",
              "    </tr>\n",
              "  </thead>\n",
              "  <tbody>\n",
              "    <tr>\n",
              "      <th>0</th>\n",
              "      <td>Asistente virtual</td>\n",
              "      <td>Electrónicos</td>\n",
              "      <td>164300.0</td>\n",
              "      <td>6900.0</td>\n",
              "      <td>16/01/2021</td>\n",
              "      <td>Pedro Gomez</td>\n",
              "      <td>Bogotá</td>\n",
              "      <td>4</td>\n",
              "      <td>Tarjeta de crédito</td>\n",
              "      <td>8</td>\n",
              "      <td>4.60971</td>\n",
              "      <td>-74.08175</td>\n",
              "    </tr>\n",
              "    <tr>\n",
              "      <th>1</th>\n",
              "      <td>Mesa de comedor</td>\n",
              "      <td>Muebles</td>\n",
              "      <td>192300.0</td>\n",
              "      <td>8400.0</td>\n",
              "      <td>18/05/2022</td>\n",
              "      <td>Beatriz Morales</td>\n",
              "      <td>Medellín</td>\n",
              "      <td>1</td>\n",
              "      <td>Tarjeta de crédito</td>\n",
              "      <td>4</td>\n",
              "      <td>6.25184</td>\n",
              "      <td>-75.56359</td>\n",
              "    </tr>\n",
              "    <tr>\n",
              "      <th>2</th>\n",
              "      <td>Juego de mesa</td>\n",
              "      <td>Juguetes</td>\n",
              "      <td>209600.0</td>\n",
              "      <td>15900.0</td>\n",
              "      <td>15/03/2021</td>\n",
              "      <td>Juan Fernandez</td>\n",
              "      <td>Cartagena</td>\n",
              "      <td>1</td>\n",
              "      <td>Tarjeta de crédito</td>\n",
              "      <td>1</td>\n",
              "      <td>10.39972</td>\n",
              "      <td>-75.51444</td>\n",
              "    </tr>\n",
              "    <tr>\n",
              "      <th>3</th>\n",
              "      <td>Microondas</td>\n",
              "      <td>Electrodomésticos</td>\n",
              "      <td>757500.0</td>\n",
              "      <td>41000.0</td>\n",
              "      <td>03/05/2022</td>\n",
              "      <td>Juan Fernandez</td>\n",
              "      <td>Cali</td>\n",
              "      <td>4</td>\n",
              "      <td>Nequi</td>\n",
              "      <td>1</td>\n",
              "      <td>3.43722</td>\n",
              "      <td>-76.52250</td>\n",
              "    </tr>\n",
              "    <tr>\n",
              "      <th>4</th>\n",
              "      <td>Silla de oficina</td>\n",
              "      <td>Muebles</td>\n",
              "      <td>335200.0</td>\n",
              "      <td>20200.0</td>\n",
              "      <td>07/11/2020</td>\n",
              "      <td>Maria Alfonso</td>\n",
              "      <td>Medellín</td>\n",
              "      <td>5</td>\n",
              "      <td>Nequi</td>\n",
              "      <td>1</td>\n",
              "      <td>6.25184</td>\n",
              "      <td>-75.56359</td>\n",
              "    </tr>\n",
              "  </tbody>\n",
              "</table>\n",
              "</div>\n",
              "    <div class=\"colab-df-buttons\">\n",
              "\n",
              "  <div class=\"colab-df-container\">\n",
              "    <button class=\"colab-df-convert\" onclick=\"convertToInteractive('df-cb7e21d1-3c47-4232-b670-d555929f7c29')\"\n",
              "            title=\"Convert this dataframe to an interactive table.\"\n",
              "            style=\"display:none;\">\n",
              "\n",
              "  <svg xmlns=\"http://www.w3.org/2000/svg\" height=\"24px\" viewBox=\"0 -960 960 960\">\n",
              "    <path d=\"M120-120v-720h720v720H120Zm60-500h600v-160H180v160Zm220 220h160v-160H400v160Zm0 220h160v-160H400v160ZM180-400h160v-160H180v160Zm440 0h160v-160H620v160ZM180-180h160v-160H180v160Zm440 0h160v-160H620v160Z\"/>\n",
              "  </svg>\n",
              "    </button>\n",
              "\n",
              "  <style>\n",
              "    .colab-df-container {\n",
              "      display:flex;\n",
              "      gap: 12px;\n",
              "    }\n",
              "\n",
              "    .colab-df-convert {\n",
              "      background-color: #E8F0FE;\n",
              "      border: none;\n",
              "      border-radius: 50%;\n",
              "      cursor: pointer;\n",
              "      display: none;\n",
              "      fill: #1967D2;\n",
              "      height: 32px;\n",
              "      padding: 0 0 0 0;\n",
              "      width: 32px;\n",
              "    }\n",
              "\n",
              "    .colab-df-convert:hover {\n",
              "      background-color: #E2EBFA;\n",
              "      box-shadow: 0px 1px 2px rgba(60, 64, 67, 0.3), 0px 1px 3px 1px rgba(60, 64, 67, 0.15);\n",
              "      fill: #174EA6;\n",
              "    }\n",
              "\n",
              "    .colab-df-buttons div {\n",
              "      margin-bottom: 4px;\n",
              "    }\n",
              "\n",
              "    [theme=dark] .colab-df-convert {\n",
              "      background-color: #3B4455;\n",
              "      fill: #D2E3FC;\n",
              "    }\n",
              "\n",
              "    [theme=dark] .colab-df-convert:hover {\n",
              "      background-color: #434B5C;\n",
              "      box-shadow: 0px 1px 3px 1px rgba(0, 0, 0, 0.15);\n",
              "      filter: drop-shadow(0px 1px 2px rgba(0, 0, 0, 0.3));\n",
              "      fill: #FFFFFF;\n",
              "    }\n",
              "  </style>\n",
              "\n",
              "    <script>\n",
              "      const buttonEl =\n",
              "        document.querySelector('#df-cb7e21d1-3c47-4232-b670-d555929f7c29 button.colab-df-convert');\n",
              "      buttonEl.style.display =\n",
              "        google.colab.kernel.accessAllowed ? 'block' : 'none';\n",
              "\n",
              "      async function convertToInteractive(key) {\n",
              "        const element = document.querySelector('#df-cb7e21d1-3c47-4232-b670-d555929f7c29');\n",
              "        const dataTable =\n",
              "          await google.colab.kernel.invokeFunction('convertToInteractive',\n",
              "                                                    [key], {});\n",
              "        if (!dataTable) return;\n",
              "\n",
              "        const docLinkHtml = 'Like what you see? Visit the ' +\n",
              "          '<a target=\"_blank\" href=https://colab.research.google.com/notebooks/data_table.ipynb>data table notebook</a>'\n",
              "          + ' to learn more about interactive tables.';\n",
              "        element.innerHTML = '';\n",
              "        dataTable['output_type'] = 'display_data';\n",
              "        await google.colab.output.renderOutput(dataTable, element);\n",
              "        const docLink = document.createElement('div');\n",
              "        docLink.innerHTML = docLinkHtml;\n",
              "        element.appendChild(docLink);\n",
              "      }\n",
              "    </script>\n",
              "  </div>\n",
              "\n",
              "\n",
              "    <div id=\"df-0b81a51b-3786-4663-8fbe-03c8fc501ab8\">\n",
              "      <button class=\"colab-df-quickchart\" onclick=\"quickchart('df-0b81a51b-3786-4663-8fbe-03c8fc501ab8')\"\n",
              "                title=\"Suggest charts\"\n",
              "                style=\"display:none;\">\n",
              "\n",
              "<svg xmlns=\"http://www.w3.org/2000/svg\" height=\"24px\"viewBox=\"0 0 24 24\"\n",
              "     width=\"24px\">\n",
              "    <g>\n",
              "        <path d=\"M19 3H5c-1.1 0-2 .9-2 2v14c0 1.1.9 2 2 2h14c1.1 0 2-.9 2-2V5c0-1.1-.9-2-2-2zM9 17H7v-7h2v7zm4 0h-2V7h2v10zm4 0h-2v-4h2v4z\"/>\n",
              "    </g>\n",
              "</svg>\n",
              "      </button>\n",
              "\n",
              "<style>\n",
              "  .colab-df-quickchart {\n",
              "      --bg-color: #E8F0FE;\n",
              "      --fill-color: #1967D2;\n",
              "      --hover-bg-color: #E2EBFA;\n",
              "      --hover-fill-color: #174EA6;\n",
              "      --disabled-fill-color: #AAA;\n",
              "      --disabled-bg-color: #DDD;\n",
              "  }\n",
              "\n",
              "  [theme=dark] .colab-df-quickchart {\n",
              "      --bg-color: #3B4455;\n",
              "      --fill-color: #D2E3FC;\n",
              "      --hover-bg-color: #434B5C;\n",
              "      --hover-fill-color: #FFFFFF;\n",
              "      --disabled-bg-color: #3B4455;\n",
              "      --disabled-fill-color: #666;\n",
              "  }\n",
              "\n",
              "  .colab-df-quickchart {\n",
              "    background-color: var(--bg-color);\n",
              "    border: none;\n",
              "    border-radius: 50%;\n",
              "    cursor: pointer;\n",
              "    display: none;\n",
              "    fill: var(--fill-color);\n",
              "    height: 32px;\n",
              "    padding: 0;\n",
              "    width: 32px;\n",
              "  }\n",
              "\n",
              "  .colab-df-quickchart:hover {\n",
              "    background-color: var(--hover-bg-color);\n",
              "    box-shadow: 0 1px 2px rgba(60, 64, 67, 0.3), 0 1px 3px 1px rgba(60, 64, 67, 0.15);\n",
              "    fill: var(--button-hover-fill-color);\n",
              "  }\n",
              "\n",
              "  .colab-df-quickchart-complete:disabled,\n",
              "  .colab-df-quickchart-complete:disabled:hover {\n",
              "    background-color: var(--disabled-bg-color);\n",
              "    fill: var(--disabled-fill-color);\n",
              "    box-shadow: none;\n",
              "  }\n",
              "\n",
              "  .colab-df-spinner {\n",
              "    border: 2px solid var(--fill-color);\n",
              "    border-color: transparent;\n",
              "    border-bottom-color: var(--fill-color);\n",
              "    animation:\n",
              "      spin 1s steps(1) infinite;\n",
              "  }\n",
              "\n",
              "  @keyframes spin {\n",
              "    0% {\n",
              "      border-color: transparent;\n",
              "      border-bottom-color: var(--fill-color);\n",
              "      border-left-color: var(--fill-color);\n",
              "    }\n",
              "    20% {\n",
              "      border-color: transparent;\n",
              "      border-left-color: var(--fill-color);\n",
              "      border-top-color: var(--fill-color);\n",
              "    }\n",
              "    30% {\n",
              "      border-color: transparent;\n",
              "      border-left-color: var(--fill-color);\n",
              "      border-top-color: var(--fill-color);\n",
              "      border-right-color: var(--fill-color);\n",
              "    }\n",
              "    40% {\n",
              "      border-color: transparent;\n",
              "      border-right-color: var(--fill-color);\n",
              "      border-top-color: var(--fill-color);\n",
              "    }\n",
              "    60% {\n",
              "      border-color: transparent;\n",
              "      border-right-color: var(--fill-color);\n",
              "    }\n",
              "    80% {\n",
              "      border-color: transparent;\n",
              "      border-right-color: var(--fill-color);\n",
              "      border-bottom-color: var(--fill-color);\n",
              "    }\n",
              "    90% {\n",
              "      border-color: transparent;\n",
              "      border-bottom-color: var(--fill-color);\n",
              "    }\n",
              "  }\n",
              "</style>\n",
              "\n",
              "      <script>\n",
              "        async function quickchart(key) {\n",
              "          const quickchartButtonEl =\n",
              "            document.querySelector('#' + key + ' button');\n",
              "          quickchartButtonEl.disabled = true;  // To prevent multiple clicks.\n",
              "          quickchartButtonEl.classList.add('colab-df-spinner');\n",
              "          try {\n",
              "            const charts = await google.colab.kernel.invokeFunction(\n",
              "                'suggestCharts', [key], {});\n",
              "          } catch (error) {\n",
              "            console.error('Error during call to suggestCharts:', error);\n",
              "          }\n",
              "          quickchartButtonEl.classList.remove('colab-df-spinner');\n",
              "          quickchartButtonEl.classList.add('colab-df-quickchart-complete');\n",
              "        }\n",
              "        (() => {\n",
              "          let quickchartButtonEl =\n",
              "            document.querySelector('#df-0b81a51b-3786-4663-8fbe-03c8fc501ab8 button');\n",
              "          quickchartButtonEl.style.display =\n",
              "            google.colab.kernel.accessAllowed ? 'block' : 'none';\n",
              "        })();\n",
              "      </script>\n",
              "    </div>\n",
              "\n",
              "    </div>\n",
              "  </div>\n"
            ],
            "application/vnd.google.colaboratory.intrinsic+json": {
              "type": "dataframe",
              "variable_name": "tienda",
              "summary": "{\n  \"name\": \"tienda\",\n  \"rows\": 2359,\n  \"fields\": [\n    {\n      \"column\": \"Producto\",\n      \"properties\": {\n        \"dtype\": \"category\",\n        \"num_unique_values\": 51,\n        \"samples\": [\n          \"Guitarra ac\\u00fastica\",\n          \"Bal\\u00f3n de baloncesto\",\n          \"Smartwatch\"\n        ],\n        \"semantic_type\": \"\",\n        \"description\": \"\"\n      }\n    },\n    {\n      \"column\": \"Categor\\u00eda del Producto\",\n      \"properties\": {\n        \"dtype\": \"category\",\n        \"num_unique_values\": 8,\n        \"samples\": [\n          \"Muebles\",\n          \"Deportes y diversi\\u00f3n\",\n          \"Electr\\u00f3nicos\"\n        ],\n        \"semantic_type\": \"\",\n        \"description\": \"\"\n      }\n    },\n    {\n      \"column\": \"Precio\",\n      \"properties\": {\n        \"dtype\": \"number\",\n        \"std\": 614686.7653873172,\n        \"min\": 7600.0,\n        \"max\": 2977000.0,\n        \"num_unique_values\": 1937,\n        \"samples\": [\n          2499400.0,\n          14800.0,\n          80500.0\n        ],\n        \"semantic_type\": \"\",\n        \"description\": \"\"\n      }\n    },\n    {\n      \"column\": \"Costo de env\\u00edo\",\n      \"properties\": {\n        \"dtype\": \"number\",\n        \"std\": 32860.0017825605,\n        \"min\": 0.0,\n        \"max\": 160800.0,\n        \"num_unique_values\": 753,\n        \"samples\": [\n          117800.0,\n          54700.0,\n          45600.0\n        ],\n        \"semantic_type\": \"\",\n        \"description\": \"\"\n      }\n    },\n    {\n      \"column\": \"Fecha de Compra\",\n      \"properties\": {\n        \"dtype\": \"object\",\n        \"num_unique_values\": 1018,\n        \"samples\": [\n          \"15/09/2022\",\n          \"03/06/2020\",\n          \"06/11/2021\"\n        ],\n        \"semantic_type\": \"\",\n        \"description\": \"\"\n      }\n    },\n    {\n      \"column\": \"Vendedor\",\n      \"properties\": {\n        \"dtype\": \"category\",\n        \"num_unique_values\": 14,\n        \"samples\": [\n          \"Juliana Costa\",\n          \"Mariana Herrera\",\n          \"Pedro Gomez\"\n        ],\n        \"semantic_type\": \"\",\n        \"description\": \"\"\n      }\n    },\n    {\n      \"column\": \"Lugar de Compra\",\n      \"properties\": {\n        \"dtype\": \"category\",\n        \"num_unique_values\": 19,\n        \"samples\": [\n          \"Bogot\\u00e1\",\n          \"Pereira\",\n          \"Neiva\"\n        ],\n        \"semantic_type\": \"\",\n        \"description\": \"\"\n      }\n    },\n    {\n      \"column\": \"Calificaci\\u00f3n\",\n      \"properties\": {\n        \"dtype\": \"number\",\n        \"std\": 1,\n        \"min\": 1,\n        \"max\": 5,\n        \"num_unique_values\": 5,\n        \"samples\": [\n          1,\n          2,\n          5\n        ],\n        \"semantic_type\": \"\",\n        \"description\": \"\"\n      }\n    },\n    {\n      \"column\": \"M\\u00e9todo de pago\",\n      \"properties\": {\n        \"dtype\": \"category\",\n        \"num_unique_values\": 4,\n        \"samples\": [\n          \"Nequi\",\n          \"Tarjeta de d\\u00e9bito\",\n          \"Tarjeta de cr\\u00e9dito\"\n        ],\n        \"semantic_type\": \"\",\n        \"description\": \"\"\n      }\n    },\n    {\n      \"column\": \"Cantidad de cuotas\",\n      \"properties\": {\n        \"dtype\": \"number\",\n        \"std\": 2,\n        \"min\": 1,\n        \"max\": 24,\n        \"num_unique_values\": 15,\n        \"samples\": [\n          7,\n          14,\n          8\n        ],\n        \"semantic_type\": \"\",\n        \"description\": \"\"\n      }\n    },\n    {\n      \"column\": \"lat\",\n      \"properties\": {\n        \"dtype\": \"number\",\n        \"std\": 2.2874452492678627,\n        \"min\": -4.21528,\n        \"max\": 11.54444,\n        \"num_unique_values\": 19,\n        \"samples\": [\n          4.60971,\n          4.81333,\n          2.9273\n        ],\n        \"semantic_type\": \"\",\n        \"description\": \"\"\n      }\n    },\n    {\n      \"column\": \"lon\",\n      \"properties\": {\n        \"dtype\": \"number\",\n        \"std\": 1.2178272727088486,\n        \"min\": -77.28111,\n        \"max\": -67.9239,\n        \"num_unique_values\": 19,\n        \"samples\": [\n          -74.08175,\n          -75.69611,\n          -75.28189\n        ],\n        \"semantic_type\": \"\",\n        \"description\": \"\"\n      }\n    }\n  ]\n}"
            }
          },
          "metadata": {},
          "execution_count": 2
        }
      ],
      "source": [
        "# Importación de las tiendas.csv\n",
        "\n",
        "url = \"https://raw.githubusercontent.com/alura-es-cursos/challenge1-data-science-latam/refs/heads/main/base-de-datos-challenge1-latam/tienda_1%20.csv\"\n",
        "url2 = \"https://raw.githubusercontent.com/alura-es-cursos/challenge1-data-science-latam/refs/heads/main/base-de-datos-challenge1-latam/tienda_2.csv\"\n",
        "url3 = \"https://raw.githubusercontent.com/alura-es-cursos/challenge1-data-science-latam/refs/heads/main/base-de-datos-challenge1-latam/tienda_3.csv\"\n",
        "url4 = \"https://raw.githubusercontent.com/alura-es-cursos/challenge1-data-science-latam/refs/heads/main/base-de-datos-challenge1-latam/tienda_4.csv\"\n",
        "\n",
        "tienda = pd.read_csv(url)\n",
        "tienda2 = pd.read_csv(url2)\n",
        "tienda3 = pd.read_csv(url3)\n",
        "tienda4 = pd.read_csv(url4)\n",
        "\n",
        "tienda.head()"
      ]
    },
    {
      "cell_type": "markdown",
      "source": [
        "## 0. Preparación para recapitulación de datos."
      ],
      "metadata": {
        "id": "LgEfIP97XTZj"
      }
    },
    {
      "cell_type": "code",
      "source": [
        "# Variables\n",
        "tiendas = [tienda, tienda2, tienda3, tienda4]\n",
        "\n",
        "#Fila Principal de las tablas generales\n",
        "nombresTiendas = ['Tienda 1','Tienda 2','Tienda 3','Tienda 4']\n",
        "# Columas de la tabla de Categorias.\n",
        "columnasCategorias = ['Ventas (tienda 1)','Ingreso total (tienda 1)',\n",
        "                      'Ventas (tienda 2)','Ingreso total (tienda 2)',\n",
        "                      'Ventas (tienda 3)','Ingreso total (tienda 3)',\n",
        "                      'Ventas (tienda 4)','Ingreso total (tienda 4)']\n",
        "\n",
        "# Columnas para la creacion de tabla de productos.\n",
        "columnasProductos = ['Ventas (tienda 1)','Ingreso total (tienda 1)',\n",
        "                     'Ventas (tienda 2)','Ingreso total (tienda 2)',\n",
        "                     'Ventas (tienda 3)','Ingreso total (tienda 3)',\n",
        "                     'Ventas (tienda 4)','Ingreso total (tienda 4)']"
      ],
      "metadata": {
        "id": "3c5UKV3MYNH7"
      },
      "execution_count": 3,
      "outputs": []
    },
    {
      "cell_type": "code",
      "source": [
        "# Tabla de datos por Categoria: nameMax/minIVCategoría max/minIngresoVentas/Venta, ventas/ingresoVentasDelMax/Min, max/minVentas/IngresoVentas\n",
        "tablaDatosCategoria = pd.DataFrame({'Nombre de las Tiendas': nombresTiendas})\n",
        "\n",
        "# Tabla de datos por Producto: nameMax/minIVCategoría max/minIngresoVentas/Venta, ventas/ingresoVentasDelMax/Min, max/minVentas/IngresoVentas\n",
        "tablaDatosProducto = pd.DataFrame({'Nombre de las Tiendas': nombresTiendas})\n",
        "\n",
        "# Tabla de datos generales: Ingreso Total, Calificacion Promedio, Costo de envio Promedio\n",
        "tablaDatos = pd.DataFrame(index=nombresTiendas)\n",
        "\n",
        "# Tabla para la visualizacion de ventas e ingresos totales por categoría.\n",
        "tablaDeCategorias = pd.DataFrame(columns = columnasCategorias)\n",
        "\n",
        "# Tabla para visualizar ventas e ingresos totales por productos.\n",
        "tablaDeProductos = pd.DataFrame(columns = columnasProductos)"
      ],
      "metadata": {
        "id": "CxIgiDyqY8TK"
      },
      "execution_count": 4,
      "outputs": []
    },
    {
      "cell_type": "code",
      "source": [
        "# Proporciona una tabla de porcentajes.\n",
        "def tablaPorcentaje (tabla):\n",
        "  return (tabla.copy()*100/tabla.sum()).round(2)"
      ],
      "metadata": {
        "id": "Mh9w3aQnR-_W"
      },
      "execution_count": 5,
      "outputs": []
    },
    {
      "cell_type": "markdown",
      "source": [
        "#1. Análisis de facturación\n",
        "\n"
      ],
      "metadata": {
        "id": "X62IW3KFUIYm"
      }
    },
    {
      "cell_type": "markdown",
      "source": [
        "### 1.1 Funciones para el análisis de facturación.\n",
        "Ingreso total y Ventas totales por Tienda."
      ],
      "metadata": {
        "id": "4tyJlwgThgm-"
      }
    },
    {
      "cell_type": "code",
      "source": [
        "# Ingreso total de la tienda.\n",
        "def ingresoTotal (tienda):\n",
        "    return tienda['Precio'].sum()"
      ],
      "metadata": {
        "id": "xykobSftV64I"
      },
      "execution_count": 6,
      "outputs": []
    },
    {
      "cell_type": "code",
      "source": [
        "# Ventas de la tienda.\n",
        "def ventaTotal (tienda):\n",
        "    return tienda['Producto'].count()"
      ],
      "metadata": {
        "id": "KDyr8E71V3m-"
      },
      "execution_count": 7,
      "outputs": []
    },
    {
      "cell_type": "code",
      "source": [
        "# Ingresos netos.\n",
        "def ingresosNetos (tienda):\n",
        "    return tienda['Precio'].sum() - tienda['Costo de envío'].sum()"
      ],
      "metadata": {
        "id": "4fWOFhd5bPRa"
      },
      "execution_count": 61,
      "outputs": []
    },
    {
      "cell_type": "markdown",
      "source": [
        "### 1.2 Ingreso de la información"
      ],
      "metadata": {
        "id": "8B0FXgbJipQQ"
      }
    },
    {
      "cell_type": "code",
      "source": [
        "tablaDatos['Ingreso Total'] = [ingresoTotal(tienda) for tienda in tiendas]\n",
        "tablaDatos['Ingresos Netos'] = [ingresosNetos(tienda) for tienda in tiendas]\n",
        "tablaDatos['Ventas Totales'] = [ventaTotal(tienda) for tienda in tiendas]"
      ],
      "metadata": {
        "id": "WEUO0ViSivzD"
      },
      "execution_count": 62,
      "outputs": []
    },
    {
      "cell_type": "markdown",
      "source": [
        "# 2. Ventas por categoría"
      ],
      "metadata": {
        "id": "2V_vcAPzWZmR"
      }
    },
    {
      "cell_type": "markdown",
      "source": [
        "### 2.1 Funcion para obtener Ventas e Ingresos por categoría\n",
        "\n",
        "Calcula la **cantidad de productos vendidos por categoría en cada tienda.** La idea es agrupar los datos por categoría y contar el número de ventas de cada tipo, mostrando **las categorías más populares de cada tienda.**"
      ],
      "metadata": {
        "id": "0VbHTiGznCup"
      }
    },
    {
      "cell_type": "code",
      "source": [
        "# Ventas Por Categoría, es decir, el precio total.\n",
        "def ingresoPorCategoria (tienda):\n",
        "    return tienda.groupby('Categoría del Producto')['Precio'].sum()"
      ],
      "metadata": {
        "id": "A34YupIuYhfF"
      },
      "execution_count": 9,
      "outputs": []
    },
    {
      "cell_type": "code",
      "source": [
        "# Cantidad De productos vendidos por categoría.\n",
        "def ventasPorCategoria (tienda):\n",
        "    return tienda.groupby('Categoría del Producto')['Producto'].count()"
      ],
      "metadata": {
        "id": "yZR6cOjXYSk1"
      },
      "execution_count": 10,
      "outputs": []
    },
    {
      "cell_type": "markdown",
      "source": [
        "### 2.2 Funciones que obtiene el maximo y minimo.\n",
        "Calcula la categoría con mayor y menor ingreso. Así como la categoría con mayor y menor ventas."
      ],
      "metadata": {
        "id": "wUyQLB2lyO-g"
      }
    },
    {
      "cell_type": "markdown",
      "source": [
        "#### Maximos"
      ],
      "metadata": {
        "id": "3C3HrxBlzBAv"
      }
    },
    {
      "cell_type": "code",
      "source": [
        "# El nombre de la categoría con mayor venta.\n",
        "def nameCategoriaMaxIngreso (tienda):\n",
        "    return tienda.groupby('Categoría del Producto')['Precio'].sum().idxmax()\n",
        "\n",
        "# La venta de la categoría con mayor venta.\n",
        "def maxIngresoPorCategoria (tienda):\n",
        "    return tienda.groupby('Categoría del Producto')['Precio'].sum().max()"
      ],
      "metadata": {
        "id": "bCZdn2HXy9_c"
      },
      "execution_count": 11,
      "outputs": []
    },
    {
      "cell_type": "code",
      "source": [
        "# El nombre de la categoría con mayor cantidad de productos vendidos.\n",
        "def nameCategoriaMaxVenta (tienda):\n",
        "    return tienda.groupby('Categoría del Producto')['Producto'].count().idxmax()\n",
        "\n",
        "# La mayor cantidad de productos vendidos.\n",
        "def maxVentaPorCategoria (tienda):\n",
        "    return tienda.groupby('Categoría del Producto')['Producto'].count().max()"
      ],
      "metadata": {
        "id": "ojOhDjZmy-2L"
      },
      "execution_count": 12,
      "outputs": []
    },
    {
      "cell_type": "markdown",
      "source": [
        "#### Minimos"
      ],
      "metadata": {
        "id": "0V8PD3JPzM3O"
      }
    },
    {
      "cell_type": "code",
      "source": [
        "# El nombre de la categoría con mayor ingreso.\n",
        "def nameCategoriaMinIngreso (tienda):\n",
        "    return tienda.groupby('Categoría del Producto')['Precio'].sum().idxmin()\n",
        "\n",
        "# La venta de la categoría con mayor ingreso.\n",
        "def minIngresoPorCategoria (tienda):\n",
        "    return tienda.groupby('Categoría del Producto')['Precio'].sum().min()"
      ],
      "metadata": {
        "id": "bfWf92uCzRkr"
      },
      "execution_count": 13,
      "outputs": []
    },
    {
      "cell_type": "code",
      "source": [
        "# El nombre de la categoría con mayor cantidad de productos vendidos.\n",
        "def nameCategoriaMinVenta (tienda):\n",
        "    return tienda.groupby('Categoría del Producto')['Producto'].count().idxmin()\n",
        "\n",
        "# La mayor cantidad de productos vendidos.\n",
        "def minVentaPorCategoria (tienda):\n",
        "    return tienda.groupby('Categoría del Producto')['Producto'].count().min()"
      ],
      "metadata": {
        "id": "ZMkcu8BYzSHv"
      },
      "execution_count": 14,
      "outputs": []
    },
    {
      "cell_type": "markdown",
      "source": [
        "### 2.3 Ingreso de la Información."
      ],
      "metadata": {
        "id": "5coA3aE5uh5d"
      }
    },
    {
      "cell_type": "code",
      "source": [
        "# Ingreso de la tabla para la visualizacion de ventas e ingresos totales de las tiendas.\n",
        "for idColumna in range(0,len(tablaDeCategorias.columns),2):\n",
        "    idTienda = (idColumna+1)//2\n",
        "    tablaDeCategorias[columnasCategorias[idColumna]] = ventasPorCategoria(tiendas[idTienda])\n",
        "    tablaDeCategorias[columnasCategorias[idColumna+1]] = ingresoPorCategoria(tiendas[idTienda])"
      ],
      "metadata": {
        "id": "2xKXmhkYuhM0"
      },
      "execution_count": 15,
      "outputs": []
    },
    {
      "cell_type": "code",
      "source": [
        "# Tabla de ingresos por porcentaje\n",
        "tablaCategoríaPorcentaje = tablaPorcentaje(tablaDeCategorias)"
      ],
      "metadata": {
        "id": "dB-ytbj3wA1j"
      },
      "execution_count": 16,
      "outputs": []
    },
    {
      "cell_type": "code",
      "source": [
        "# Añade la Categoria con mayor ventas de cada tienda y las ventas obtenidas.\n",
        "tablaDatosCategoria['Categoría con mayor Ingreso'] = [nameCategoriaMaxIngreso(tienda) for tienda in tiendas]\n",
        "tablaDatosCategoria['Ingreso Total (max)'] = [maxIngresoPorCategoria(tienda) for tienda in tiendas]\n",
        "tablaDatosCategoria['Ventas de la categoría (max)'] = [tablaDeCategorias.loc[tablaDatosCategoria.loc[id,'Categoría con mayor Ingreso'],columnasCategorias[id*2]] for id in tablaDatosCategoria.index ]"
      ],
      "metadata": {
        "id": "OKkPYVUEzf3D"
      },
      "execution_count": 17,
      "outputs": []
    },
    {
      "cell_type": "code",
      "source": [
        "# Añade la Categoria con menor ventas de cada tienda y las ventas obtenidas.\n",
        "tablaDatosCategoria['Categoría con menor Ingreso'] = [nameCategoriaMinIngreso(tienda) for tienda in tiendas]\n",
        "tablaDatosCategoria['Ingreso Total (min)'] = [minIngresoPorCategoria(tienda) for tienda in tiendas]\n",
        "tablaDatosCategoria['Ventas de la categoría (min)'] = [tablaDeCategorias.loc[tablaDatosCategoria.loc[id,'Categoría con menor Ingreso'],columnasCategorias[id*2]] for id in tablaDatosCategoria.index ]"
      ],
      "metadata": {
        "id": "RnWJvr-j2K4r"
      },
      "execution_count": 18,
      "outputs": []
    },
    {
      "cell_type": "code",
      "source": [
        "# Añade la Categoria con más productos vendidos de cada tienda y las cantidades obtenidas.\n",
        "tablaDatosCategoria['Categoría con mayor ventas'] = [nameCategoriaMaxVenta(tienda) for tienda in tiendas]\n",
        "tablaDatosCategoria['Ventas (max)'] = [maxVentaPorCategoria(tienda) for tienda in tiendas]\n",
        "tablaDatosCategoria['Ingreso de la categoría (max)'] = [tablaDeCategorias.loc[tablaDatosCategoria.loc[id,'Categoría con mayor ventas'],columnasCategorias[(id*2)+1]] for id in tablaDatosCategoria.index ]"
      ],
      "metadata": {
        "id": "p4idhlSl28gy"
      },
      "execution_count": 19,
      "outputs": []
    },
    {
      "cell_type": "code",
      "source": [
        "# Añade la Categoria con más productos vendidos de cada tienda y las cantidades obtenidas.\n",
        "tablaDatosCategoria['Categoría con menor ventas'] = [nameCategoriaMinVenta(tienda) for tienda in tiendas]\n",
        "tablaDatosCategoria['Ventas (min)'] = [minVentaPorCategoria(tienda) for tienda in tiendas]\n",
        "tablaDatosCategoria['Ingreso de la categoría (min)'] = [tablaDeCategorias.loc[tablaDatosCategoria.loc[id,'Categoría con menor ventas'],columnasCategorias[(id*2)+1]] for id in tablaDatosCategoria.index ]"
      ],
      "metadata": {
        "id": "HKGAH89p22rD"
      },
      "execution_count": 20,
      "outputs": []
    },
    {
      "cell_type": "markdown",
      "source": [
        "# 3. Calificación promedio de la tienda\n"
      ],
      "metadata": {
        "id": "Rq6tU_xSY3jk"
      }
    },
    {
      "cell_type": "markdown",
      "source": [
        "Función para obtener la media.\n",
        "\n",
        "Calcula las calificaciones promedio de los clientes para cada tienda, para **conocer la satisfacción del cliente con los productos vendidos.**"
      ],
      "metadata": {
        "id": "4Vnrxw-9xmOW"
      }
    },
    {
      "cell_type": "code",
      "source": [
        "# Calcula la media de la calificacion de la tienda y la redonde a 2 decimales.\n",
        "def mediaCalificacion (tienda):\n",
        "    return round(tienda['Calificación'].mean(),2)"
      ],
      "metadata": {
        "id": "bh3jjjJwY5MU"
      },
      "execution_count": 21,
      "outputs": []
    },
    {
      "cell_type": "markdown",
      "source": [
        "Ingreso de información en la tabla de Datos."
      ],
      "metadata": {
        "id": "wwAb24dd4uW4"
      }
    },
    {
      "cell_type": "code",
      "source": [
        "tablaDatos['Calificación promedio'] = [mediaCalificacion(tienda) for tienda in tiendas]"
      ],
      "metadata": {
        "id": "I0KkjPoTY88F"
      },
      "execution_count": 22,
      "outputs": []
    },
    {
      "cell_type": "markdown",
      "source": [
        "# 4. Productos más y menos vendidos"
      ],
      "metadata": {
        "id": "DmNp1KPBZCm-"
      }
    },
    {
      "cell_type": "markdown",
      "source": [
        "### 4.1 Funcion para obtener Ventas e Ingresos por producto.\n",
        "\n",
        "Calcula las ventas de los productos más vendidos y menos vendidos en cada tienda. Visualiza los resultados al final."
      ],
      "metadata": {
        "id": "GrkXoRZp5qvQ"
      }
    },
    {
      "cell_type": "code",
      "source": [
        "# Precio total de las ventas por producto de la tienda.\n",
        "def ingresoPorProducto (tienda):\n",
        "    return tienda.groupby('Producto')['Precio'].sum()"
      ],
      "metadata": {
        "id": "qoyjqijQZHfF"
      },
      "execution_count": 23,
      "outputs": []
    },
    {
      "cell_type": "code",
      "source": [
        "# Cantidad de productos vendidos por producto.\n",
        "def ventasPorProductos (tienda):\n",
        "    return tienda.groupby('Producto')['Producto'].count()"
      ],
      "metadata": {
        "id": "0Sw3sd4IZIGW"
      },
      "execution_count": 24,
      "outputs": []
    },
    {
      "cell_type": "markdown",
      "source": [
        "### 4.2 Funciones que obtienen el minimo y el maximo.\n",
        "\n",
        "Calcula el producto con mayor y menor ingreso. Así como la categoría con mayor y menor ventas."
      ],
      "metadata": {
        "id": "AmGCl21I6DJN"
      }
    },
    {
      "cell_type": "markdown",
      "source": [
        "#### Minimos"
      ],
      "metadata": {
        "id": "0-7A4LAJ6kce"
      }
    },
    {
      "cell_type": "code",
      "source": [
        "# Nombre del producto con menor ingreso Total.\n",
        "def nameMinIngresoTotal (tienda):\n",
        "    return tienda.groupby('Producto')['Precio'].sum().idxmin()\n",
        "# La menor Venta.\n",
        "def minIngresoTotal (tienda):\n",
        "    return tienda.groupby('Producto')['Precio'].sum().min()"
      ],
      "metadata": {
        "id": "7yA91DCK6jnf"
      },
      "execution_count": 25,
      "outputs": []
    },
    {
      "cell_type": "code",
      "source": [
        "# Nombre del producto con menor cantidad de productos vendidos.\n",
        "def nameMinVentas (tienda):\n",
        "    return tienda.groupby('Producto')['Precio'].count().idxmin()\n",
        "\n",
        "# La menor cantidad de productos vendidos.\n",
        "def minVentas (tienda):\n",
        "    return tienda.groupby('Producto')['Precio'].count().min()"
      ],
      "metadata": {
        "id": "5hQguzcm7Zkt"
      },
      "execution_count": 26,
      "outputs": []
    },
    {
      "cell_type": "markdown",
      "source": [
        "#### Maximos"
      ],
      "metadata": {
        "id": "_PGUp6D76nsN"
      }
    },
    {
      "cell_type": "code",
      "source": [
        "# Nombre del producto con mayor ingreso total.\n",
        "def nameMaxIngresoTotal (tienda):\n",
        "    return tienda.groupby('Producto')['Precio'].sum().idxmax()\n",
        "# La mayor Venta.\n",
        "def maxIngresoTotal (tienda):\n",
        "    return tienda.groupby('Producto')['Precio'].sum().max()"
      ],
      "metadata": {
        "id": "moVH4nEw6tKP"
      },
      "execution_count": 27,
      "outputs": []
    },
    {
      "cell_type": "code",
      "source": [
        "# Nombre del producto con mayor cantidad de productos vendidos.\n",
        "def nameMaxVentas (tienda):\n",
        "    return tienda.groupby('Producto')['Precio'].count().idxmax()\n",
        "\n",
        "# La mayor cantidad de productos vendidos.\n",
        "def maxVentas (tienda):\n",
        "    return tienda.groupby('Producto')['Precio'].count().max()"
      ],
      "metadata": {
        "id": "EUWPZFI97Svh"
      },
      "execution_count": 28,
      "outputs": []
    },
    {
      "cell_type": "markdown",
      "source": [
        "### 4.3 Ingreso de la informacion."
      ],
      "metadata": {
        "id": "VBXxQ9X_6tkB"
      }
    },
    {
      "cell_type": "code",
      "source": [
        "# Ingreso de la información por producto.\n",
        "for idColumna in range(0,len(tablaDeProductos.columns),2):\n",
        "    idTienda = (idColumna+1)//2\n",
        "    tablaDeProductos[columnasProductos[idColumna]] = ventasPorProductos(tiendas[idTienda])\n",
        "    tablaDeProductos[columnasProductos[idColumna+1]] = ingresoPorProducto(tiendas[idTienda])"
      ],
      "metadata": {
        "id": "WTvgY5Ln6zZ8"
      },
      "execution_count": 29,
      "outputs": []
    },
    {
      "cell_type": "code",
      "source": [
        "# Tabla por producto en porcentaje.\n",
        "tablaProductoPorcentaje = tablaPorcentaje(tablaDeProductos)"
      ],
      "metadata": {
        "id": "G3_EQa117fS0"
      },
      "execution_count": 30,
      "outputs": []
    },
    {
      "cell_type": "code",
      "source": [
        "# Añade los productos con ingresos mayores de cada tienda.\n",
        "tablaDatosProducto['Producto con más ingreso'] = [nameMaxIngresoTotal(tienda) for tienda in tiendas]\n",
        "tablaDatosProducto['Ingreso del producto (max)'] = [maxIngresoTotal(tienda) for tienda in tiendas]\n",
        "tablaDatosProducto['Productos vendidos (max)'] = [tablaDeProductos.loc[tablaDatosProducto.loc[i,'Producto con más ingreso'],columnasProductos[i*2]] for i in tablaDatosProducto.index]"
      ],
      "metadata": {
        "id": "NMuE4fHu7tJK"
      },
      "execution_count": 31,
      "outputs": []
    },
    {
      "cell_type": "code",
      "source": [
        "# Añade los productos con ingresos menores de cada tienda.\n",
        "tablaDatosProducto['Producto con menos ingreso'] = [nameMinIngresoTotal(tienda) for tienda in tiendas]\n",
        "tablaDatosProducto['Ingreso del producto (min)'] = [minIngresoTotal(tienda) for tienda in tiendas]\n",
        "tablaDatosProducto['Productos vendidos (min)'] = [tablaDeProductos.loc[tablaDatosProducto.loc[i,'Producto con menos ingreso'],columnasProductos[i*2]] for i in tablaDatosProducto.index]"
      ],
      "metadata": {
        "id": "joekVa6Y8J6d"
      },
      "execution_count": 32,
      "outputs": []
    },
    {
      "cell_type": "code",
      "source": [
        "# Añade los productos con ventas mayores de cada tienda.\n",
        "tablaDatosProducto['Producto con más ventas'] = [nameMaxVentas(tienda) for tienda in tiendas]\n",
        "tablaDatosProducto['Ventas del producto (max)'] = [maxVentas(tienda) for tienda in tiendas]\n",
        "tablaDatosProducto['Ingresos de la venta (max)'] = [tablaDeProductos.loc[tablaDatosProducto.loc[i,'Producto con más ventas'],columnasProductos[(i*2)+1]] for i in tablaDatosProducto.index]"
      ],
      "metadata": {
        "id": "qIlmyqOr8SL6"
      },
      "execution_count": 33,
      "outputs": []
    },
    {
      "cell_type": "code",
      "source": [
        "# Añade los productos con ventas menores de cada tienda.\n",
        "tablaDatosProducto['Producto con menos ventas'] = [nameMinVentas(tienda) for tienda in tiendas]\n",
        "tablaDatosProducto['Ventas del producto (min)'] = [minVentas(tienda) for tienda in tiendas]\n",
        "tablaDatosProducto['Ingresos de la venta (min)'] = [tablaDeProductos.loc[tablaDatosProducto.loc[i,'Producto con menos ventas'],columnasProductos[(i*2)+1]] for i in tablaDatosProducto.index]"
      ],
      "metadata": {
        "id": "CJrmFF4s8Vqt"
      },
      "execution_count": 34,
      "outputs": []
    },
    {
      "cell_type": "markdown",
      "source": [
        "# 5. Envío promedio por tienda"
      ],
      "metadata": {
        "id": "Fl0cGi3bZKqU"
      }
    },
    {
      "cell_type": "markdown",
      "source": [
        "Funcion del costo de envio medio por cada tienda.\n",
        "\n",
        "Calcula el costo de envío promedio para cada tienda, para comprender cuánto se gasta, en promedio, en el envío de cada tienda."
      ],
      "metadata": {
        "id": "U8ITqDtY8_OE"
      }
    },
    {
      "cell_type": "code",
      "source": [
        "# Calcula la media del costo de envio y lo redonde en 2 decimales.\n",
        "def mediaEnvio (tienda):\n",
        "    return round(tienda['Costo de envío'].mean(),2)"
      ],
      "metadata": {
        "id": "S2JeaCykZNy9"
      },
      "execution_count": 35,
      "outputs": []
    },
    {
      "cell_type": "markdown",
      "source": [
        "Ingreso de la información en la tabla"
      ],
      "metadata": {
        "id": "kZ_zQjxM9F-Y"
      }
    },
    {
      "cell_type": "code",
      "source": [
        "tablaDatos['Costo de envío promedio'] = [mediaEnvio(tienda) for tienda in tiendas]"
      ],
      "metadata": {
        "id": "0tSdCie9ZQlt"
      },
      "execution_count": 36,
      "outputs": []
    },
    {
      "cell_type": "code",
      "source": [
        "tablaDatosPorcentaje = tablaPorcentaje(tablaDatos)"
      ],
      "metadata": {
        "id": "NX6S2P9sPiM5"
      },
      "execution_count": 37,
      "outputs": []
    },
    {
      "cell_type": "markdown",
      "source": [
        "# 6. Locación"
      ],
      "metadata": {
        "id": "Zkwazr0p-nmB"
      }
    },
    {
      "cell_type": "markdown",
      "source": [
        "Funcion para ver el lugar con mas ventas"
      ],
      "metadata": {
        "id": "FjB_kj9xM89d"
      }
    },
    {
      "cell_type": "code",
      "source": [
        "# Verifica el lugar de compra de la tienda\n",
        "def lugarDeCompras (tienda):\n",
        "  return tienda.groupby('Lugar de Compra')['Lugar de Compra'].count()"
      ],
      "metadata": {
        "id": "lJZHFjNJ-sM8"
      },
      "execution_count": 38,
      "outputs": []
    },
    {
      "cell_type": "markdown",
      "source": [
        "Ingreso de la información de tablas"
      ],
      "metadata": {
        "id": "9NQ3P98TNGDU"
      }
    },
    {
      "cell_type": "code",
      "source": [
        "# Añade las ventas por el lugar de cada tienda\n",
        "tablaUbicación = pd.DataFrame({'Tienda 1': lugarDeCompras(tienda)})\n",
        "tablaUbicación['Tienda 2'] = lugarDeCompras(tienda2)\n",
        "tablaUbicación['Tienda 3'] = lugarDeCompras(tienda3)\n",
        "tablaUbicación['Tienda 4'] = lugarDeCompras(tienda4)"
      ],
      "metadata": {
        "id": "4_lJTY1g_jG-"
      },
      "execution_count": 39,
      "outputs": []
    },
    {
      "cell_type": "code",
      "source": [
        "tablaDatos['Lugar de con mayor compra'] = [tienda.groupby('Lugar de Compra')['Lugar de Compra'].count().idxmax() for tienda in tiendas]"
      ],
      "metadata": {
        "id": "dUQwYAXXLn-6"
      },
      "execution_count": 40,
      "outputs": []
    },
    {
      "cell_type": "markdown",
      "source": [
        "#7. Analisis para graficos o tablas"
      ],
      "metadata": {
        "id": "iaBhJRu40RpG"
      }
    },
    {
      "cell_type": "code",
      "source": [
        "# Muestra el top de los factores y los datos de la tabla.\n",
        "def topDatos(tabla,factor,n):\n",
        "  return tabla.nlargest(n,factor)\n",
        "\n",
        "# Muestra el top de los factores.\n",
        "def topFactor(tabla,factor,n):\n",
        "  return tabla[factor].nlargest(n)"
      ],
      "metadata": {
        "id": "qFZAz0qaCV_h"
      },
      "execution_count": 41,
      "outputs": []
    },
    {
      "cell_type": "code",
      "source": [
        "topCategoriasV1 = topDatos(tablaDeCategorias,'Ventas (tienda 1)',3)\n",
        "topCategoriasV2 = topDatos(tablaDeCategorias,'Ventas (tienda 2)',3)\n",
        "topCategoriasV3 = topDatos(tablaDeCategorias,'Ventas (tienda 3)',3)\n",
        "topCategoriasV4 = topDatos(tablaDeCategorias,'Ventas (tienda 4)',3)"
      ],
      "metadata": {
        "id": "S7YxePblCbl-"
      },
      "execution_count": 42,
      "outputs": []
    },
    {
      "cell_type": "code",
      "source": [
        "topProductosV1 = topDatos(tablaDeProductos,'Ventas (tienda 1)',4)\n",
        "topProductosV2 = topDatos(tablaDeProductos,'Ventas (tienda 2)',4)\n",
        "topProductosV3 = topDatos(tablaDeProductos,'Ventas (tienda 3)',4)\n",
        "topProductosV4 = topDatos(tablaDeProductos,'Ventas (tienda 4)',4)"
      ],
      "metadata": {
        "id": "7KKHtHZhCnpk"
      },
      "execution_count": 43,
      "outputs": []
    },
    {
      "cell_type": "code",
      "source": [
        "topCategoriasI1 = topDatos(tablaDeCategorias,'Ingreso total (tienda 1)',3)\n",
        "topCategoriasI2 = topDatos(tablaDeCategorias,'Ingreso total (tienda 2)',3)\n",
        "topCategoriasI3 = topDatos(tablaDeCategorias,'Ingreso total (tienda 3)',3)\n",
        "topCategoriasI4 = topDatos(tablaDeCategorias,'Ingreso total (tienda 4)',3)"
      ],
      "metadata": {
        "id": "0dAc6g9fCqm9"
      },
      "execution_count": 44,
      "outputs": []
    },
    {
      "cell_type": "code",
      "source": [
        "topProductosI1 = topDatos(tablaDeProductos,'Ingreso total (tienda 1)',4)\n",
        "topProductosI2 = topDatos(tablaDeProductos,'Ingreso total (tienda 2)',4)\n",
        "topProductosI3 = topDatos(tablaDeProductos,'Ingreso total (tienda 3)',4)\n",
        "topProductosI4 = topDatos(tablaDeProductos,'Ingreso total (tienda 4)',4)"
      ],
      "metadata": {
        "id": "WZG_koaqC_WJ"
      },
      "execution_count": 45,
      "outputs": []
    },
    {
      "cell_type": "code",
      "source": [
        "topUbicacion1 = topDatos(tablaUbicación,'Tienda 1',4)\n",
        "topUbicacion2 = topDatos(tablaUbicación,'Tienda 2',4)\n",
        "topUbicacion3 = topDatos(tablaUbicación,'Tienda 3',4)\n",
        "topUbicacion4 = topDatos(tablaUbicación,'Tienda 4',4)"
      ],
      "metadata": {
        "id": "1X_FU1AYDKlA"
      },
      "execution_count": 46,
      "outputs": []
    },
    {
      "cell_type": "code",
      "source": [
        "tablaDatosVentas = pd.DataFrame(index=nombresTiendas)\n",
        "tablaDatosVentas['Ventas (max)'] = [maxVentaPorCategoria(tienda) for tienda in tiendas]\n",
        "tablaDatosVentas['Ventas (min)'] = [minVentaPorCategoria(tienda) for tienda in tiendas]\n",
        "tablaDatosVentas['Ventas Totales'] = [ventaTotal(tienda)-minVentaPorCategoria(tienda)-maxVentaPorCategoria(tienda) for tienda in tiendas]"
      ],
      "metadata": {
        "id": "7RQazBY4DjHy"
      },
      "execution_count": 47,
      "outputs": []
    },
    {
      "cell_type": "code",
      "source": [
        "tablaDatosIngresos = pd.DataFrame(index=nombresTiendas)\n",
        "tablaDatosIngresos['Ingreso (max)'] = [maxIngresoPorCategoria(tienda) for tienda in tiendas]\n",
        "tablaDatosIngresos['Ingreso (min)'] = [minIngresoPorCategoria(tienda) for tienda in tiendas]\n",
        "tablaDatosIngresos['Ingreso Total'] = [ingresoTotal(tienda)-minIngresoPorCategoria(tienda)-maxIngresoPorCategoria(tienda) for tienda in tiendas]"
      ],
      "metadata": {
        "id": "AryNpJYGLgR7"
      },
      "execution_count": 48,
      "outputs": []
    },
    {
      "cell_type": "markdown",
      "source": [
        "# 8. Graficas"
      ],
      "metadata": {
        "id": "Wicfrp_fN3c-"
      }
    },
    {
      "cell_type": "markdown",
      "source": [
        "Importacion de Paquetería Matplotlib"
      ],
      "metadata": {
        "id": "gMRenRjtRpj6"
      }
    },
    {
      "cell_type": "code",
      "source": [
        "# Instalación de Paquetes.\n",
        "!pip install matplotlib"
      ],
      "metadata": {
        "colab": {
          "base_uri": "https://localhost:8080/"
        },
        "id": "tcWfkmC_RTbU",
        "outputId": "0e0d83e4-2964-4d2d-d6b5-32f10aeafd9d"
      },
      "execution_count": 49,
      "outputs": [
        {
          "output_type": "stream",
          "name": "stdout",
          "text": [
            "Requirement already satisfied: matplotlib in /usr/local/lib/python3.11/dist-packages (3.10.0)\n",
            "Requirement already satisfied: contourpy>=1.0.1 in /usr/local/lib/python3.11/dist-packages (from matplotlib) (1.3.2)\n",
            "Requirement already satisfied: cycler>=0.10 in /usr/local/lib/python3.11/dist-packages (from matplotlib) (0.12.1)\n",
            "Requirement already satisfied: fonttools>=4.22.0 in /usr/local/lib/python3.11/dist-packages (from matplotlib) (4.57.0)\n",
            "Requirement already satisfied: kiwisolver>=1.3.1 in /usr/local/lib/python3.11/dist-packages (from matplotlib) (1.4.8)\n",
            "Requirement already satisfied: numpy>=1.23 in /usr/local/lib/python3.11/dist-packages (from matplotlib) (2.0.2)\n",
            "Requirement already satisfied: packaging>=20.0 in /usr/local/lib/python3.11/dist-packages (from matplotlib) (24.2)\n",
            "Requirement already satisfied: pillow>=8 in /usr/local/lib/python3.11/dist-packages (from matplotlib) (11.2.1)\n",
            "Requirement already satisfied: pyparsing>=2.3.1 in /usr/local/lib/python3.11/dist-packages (from matplotlib) (3.2.3)\n",
            "Requirement already satisfied: python-dateutil>=2.7 in /usr/local/lib/python3.11/dist-packages (from matplotlib) (2.9.0.post0)\n",
            "Requirement already satisfied: six>=1.5 in /usr/local/lib/python3.11/dist-packages (from python-dateutil>=2.7->matplotlib) (1.17.0)\n"
          ]
        }
      ]
    },
    {
      "cell_type": "code",
      "source": [
        "import matplotlib.pyplot as plt\n",
        "import numpy as np"
      ],
      "metadata": {
        "id": "NYP8WViHRlA3"
      },
      "execution_count": 50,
      "outputs": []
    },
    {
      "cell_type": "markdown",
      "source": [
        "Estilo de tipografías y paleta de colores."
      ],
      "metadata": {
        "id": "0dtOdqQAVfHX"
      }
    },
    {
      "cell_type": "code",
      "source": [
        "# Tipografía.\n",
        "fontTitle = {'family':'serif','color':'black','size':20}\n",
        "fontSubtitle = {'family':'serif','color':'#2B2D36','size':15}\n",
        "\n",
        "# Paleta de colores.\n",
        "mycolors = ['#0707FF','#444480','#FFB408','#FFF008']"
      ],
      "metadata": {
        "id": "uUovWI4mepvh"
      },
      "execution_count": 51,
      "outputs": []
    },
    {
      "cell_type": "markdown",
      "source": [
        "Funciones para graficas."
      ],
      "metadata": {
        "id": "5CqOviWcVloi"
      }
    },
    {
      "cell_type": "code",
      "source": [
        "# Labels de tiendas\n",
        "myLabels = tablaDatos.index"
      ],
      "metadata": {
        "id": "HtBZyJ70Vtjt"
      },
      "execution_count": 52,
      "outputs": []
    },
    {
      "cell_type": "code",
      "source": [
        "# Grafíca de Pie para algun factor.\n",
        "def pieTiendas(tabla,factor,titulo,myexplode):\n",
        "  # Colores y datos.\n",
        "  plt.pie(tabla[factor], labels = myLabels, explode = myexplode, colors = mycolors, autopct='%1.1f%%')\n",
        "  # Titulo\n",
        "  plt.title(titulo, fontdict = fontTitle)"
      ],
      "metadata": {
        "id": "VA6QNKG3_IV-"
      },
      "execution_count": 53,
      "outputs": []
    },
    {
      "cell_type": "code",
      "source": [
        "# Grafíca de Pie ventas respecto ventas totales.\n",
        "def pieVentaMm (tabla,tienda,titulo):\n",
        "  # Colores y datos.\n",
        "  plt.pie([tabla.loc[tienda,'Ventas (max)'],tabla.loc[tienda,'Ventas (min)'],tabla.loc[tienda,'Ventas Totales']], labels = ['Ventas (max)','Ventas (min)', 'Ventas'], colors = mycolors, autopct='%1.1f%%')\n",
        "  # Titulo\n",
        "  plt.title(titulo)\n",
        "  plt.show()"
      ],
      "metadata": {
        "id": "850SHhYvJCR5"
      },
      "execution_count": 54,
      "outputs": []
    },
    {
      "cell_type": "code",
      "source": [
        "# Grafíca de Pie ingresos respecto a los ingresos totales.\n",
        "def pieIngresoMm (tabla,tienda,titulo):\n",
        "  # Colores y datos.\n",
        "  plt.pie([tabla.loc[tienda,'Ingreso (max)'],tabla.loc[tienda,'Ingreso (min)'],tabla.loc[tienda,'Ingreso Total']], labels = ['Ingreso (max)','Ingreso (min)', 'Ingreso Total'], colors = mycolors, autopct='%1.1f%%')\n",
        "  # Titulo\n",
        "  plt.title(titulo)\n",
        "  plt.show()"
      ],
      "metadata": {
        "id": "gfmeAq2FLpDK"
      },
      "execution_count": 55,
      "outputs": []
    },
    {
      "cell_type": "code",
      "source": [
        "def distrubucionUbicacion (tienda,mycolor):\n",
        "  # Colores y datos.\n",
        "  plt.scatter(tienda['lat'], tienda['lon'], color = mycolor)\n",
        "  # Titulo\n",
        "  plt.title('Ubicación de las compras', fontdict = fontTitle)\n",
        "  plt.xlabel('Latitud', fontdict=fontSubtitle)\n",
        "  plt.ylabel('Longitud', fontdict=fontSubtitle)\n",
        "  plt.show()"
      ],
      "metadata": {
        "id": "txMgXzNywjGZ"
      },
      "execution_count": 89,
      "outputs": []
    },
    {
      "cell_type": "markdown",
      "source": [
        "# 10. Informe\n",
        "\n",
        "Para tomar una decicón consisa sobre la elección de la veamos la tabla general de datos, en proporción (tomar en cuenta los ingresos brutos en caso de que los costos de envio los page la tienda)"
      ],
      "metadata": {
        "id": "Z85zNIzwNnig"
      }
    },
    {
      "cell_type": "code",
      "source": [
        "tablaDatos"
      ],
      "metadata": {
        "colab": {
          "base_uri": "https://localhost:8080/",
          "height": 175
        },
        "id": "dgX3i43oXNgc",
        "outputId": "04296a98-c5b2-45e6-ffdb-6dbd517a136b"
      },
      "execution_count": 63,
      "outputs": [
        {
          "output_type": "execute_result",
          "data": {
            "text/plain": [
              "          Ingreso Total  Ventas Totales  Calificación promedio  \\\n",
              "Tienda 1   1.150880e+09            2359                   3.98   \n",
              "Tienda 2   1.116344e+09            2359                   4.04   \n",
              "Tienda 3   1.098020e+09            2359                   4.05   \n",
              "Tienda 4   1.038376e+09            2358                   4.00   \n",
              "\n",
              "          Costo de envío promedio Lugar de con mayor compra  Ingresos Netos  \n",
              "Tienda 1                 26018.61                    Bogotá    1.089502e+09  \n",
              "Tienda 2                 25216.24                    Bogotá    1.056858e+09  \n",
              "Tienda 3                 24805.68                    Bogotá    1.039503e+09  \n",
              "Tienda 4                 23459.46                    Bogotá    9.830583e+08  "
            ],
            "text/html": [
              "\n",
              "  <div id=\"df-75d61131-68aa-49c5-a9e0-cc5ce143d1f9\" class=\"colab-df-container\">\n",
              "    <div>\n",
              "<style scoped>\n",
              "    .dataframe tbody tr th:only-of-type {\n",
              "        vertical-align: middle;\n",
              "    }\n",
              "\n",
              "    .dataframe tbody tr th {\n",
              "        vertical-align: top;\n",
              "    }\n",
              "\n",
              "    .dataframe thead th {\n",
              "        text-align: right;\n",
              "    }\n",
              "</style>\n",
              "<table border=\"1\" class=\"dataframe\">\n",
              "  <thead>\n",
              "    <tr style=\"text-align: right;\">\n",
              "      <th></th>\n",
              "      <th>Ingreso Total</th>\n",
              "      <th>Ventas Totales</th>\n",
              "      <th>Calificación promedio</th>\n",
              "      <th>Costo de envío promedio</th>\n",
              "      <th>Lugar de con mayor compra</th>\n",
              "      <th>Ingresos Netos</th>\n",
              "    </tr>\n",
              "  </thead>\n",
              "  <tbody>\n",
              "    <tr>\n",
              "      <th>Tienda 1</th>\n",
              "      <td>1.150880e+09</td>\n",
              "      <td>2359</td>\n",
              "      <td>3.98</td>\n",
              "      <td>26018.61</td>\n",
              "      <td>Bogotá</td>\n",
              "      <td>1.089502e+09</td>\n",
              "    </tr>\n",
              "    <tr>\n",
              "      <th>Tienda 2</th>\n",
              "      <td>1.116344e+09</td>\n",
              "      <td>2359</td>\n",
              "      <td>4.04</td>\n",
              "      <td>25216.24</td>\n",
              "      <td>Bogotá</td>\n",
              "      <td>1.056858e+09</td>\n",
              "    </tr>\n",
              "    <tr>\n",
              "      <th>Tienda 3</th>\n",
              "      <td>1.098020e+09</td>\n",
              "      <td>2359</td>\n",
              "      <td>4.05</td>\n",
              "      <td>24805.68</td>\n",
              "      <td>Bogotá</td>\n",
              "      <td>1.039503e+09</td>\n",
              "    </tr>\n",
              "    <tr>\n",
              "      <th>Tienda 4</th>\n",
              "      <td>1.038376e+09</td>\n",
              "      <td>2358</td>\n",
              "      <td>4.00</td>\n",
              "      <td>23459.46</td>\n",
              "      <td>Bogotá</td>\n",
              "      <td>9.830583e+08</td>\n",
              "    </tr>\n",
              "  </tbody>\n",
              "</table>\n",
              "</div>\n",
              "    <div class=\"colab-df-buttons\">\n",
              "\n",
              "  <div class=\"colab-df-container\">\n",
              "    <button class=\"colab-df-convert\" onclick=\"convertToInteractive('df-75d61131-68aa-49c5-a9e0-cc5ce143d1f9')\"\n",
              "            title=\"Convert this dataframe to an interactive table.\"\n",
              "            style=\"display:none;\">\n",
              "\n",
              "  <svg xmlns=\"http://www.w3.org/2000/svg\" height=\"24px\" viewBox=\"0 -960 960 960\">\n",
              "    <path d=\"M120-120v-720h720v720H120Zm60-500h600v-160H180v160Zm220 220h160v-160H400v160Zm0 220h160v-160H400v160ZM180-400h160v-160H180v160Zm440 0h160v-160H620v160ZM180-180h160v-160H180v160Zm440 0h160v-160H620v160Z\"/>\n",
              "  </svg>\n",
              "    </button>\n",
              "\n",
              "  <style>\n",
              "    .colab-df-container {\n",
              "      display:flex;\n",
              "      gap: 12px;\n",
              "    }\n",
              "\n",
              "    .colab-df-convert {\n",
              "      background-color: #E8F0FE;\n",
              "      border: none;\n",
              "      border-radius: 50%;\n",
              "      cursor: pointer;\n",
              "      display: none;\n",
              "      fill: #1967D2;\n",
              "      height: 32px;\n",
              "      padding: 0 0 0 0;\n",
              "      width: 32px;\n",
              "    }\n",
              "\n",
              "    .colab-df-convert:hover {\n",
              "      background-color: #E2EBFA;\n",
              "      box-shadow: 0px 1px 2px rgba(60, 64, 67, 0.3), 0px 1px 3px 1px rgba(60, 64, 67, 0.15);\n",
              "      fill: #174EA6;\n",
              "    }\n",
              "\n",
              "    .colab-df-buttons div {\n",
              "      margin-bottom: 4px;\n",
              "    }\n",
              "\n",
              "    [theme=dark] .colab-df-convert {\n",
              "      background-color: #3B4455;\n",
              "      fill: #D2E3FC;\n",
              "    }\n",
              "\n",
              "    [theme=dark] .colab-df-convert:hover {\n",
              "      background-color: #434B5C;\n",
              "      box-shadow: 0px 1px 3px 1px rgba(0, 0, 0, 0.15);\n",
              "      filter: drop-shadow(0px 1px 2px rgba(0, 0, 0, 0.3));\n",
              "      fill: #FFFFFF;\n",
              "    }\n",
              "  </style>\n",
              "\n",
              "    <script>\n",
              "      const buttonEl =\n",
              "        document.querySelector('#df-75d61131-68aa-49c5-a9e0-cc5ce143d1f9 button.colab-df-convert');\n",
              "      buttonEl.style.display =\n",
              "        google.colab.kernel.accessAllowed ? 'block' : 'none';\n",
              "\n",
              "      async function convertToInteractive(key) {\n",
              "        const element = document.querySelector('#df-75d61131-68aa-49c5-a9e0-cc5ce143d1f9');\n",
              "        const dataTable =\n",
              "          await google.colab.kernel.invokeFunction('convertToInteractive',\n",
              "                                                    [key], {});\n",
              "        if (!dataTable) return;\n",
              "\n",
              "        const docLinkHtml = 'Like what you see? Visit the ' +\n",
              "          '<a target=\"_blank\" href=https://colab.research.google.com/notebooks/data_table.ipynb>data table notebook</a>'\n",
              "          + ' to learn more about interactive tables.';\n",
              "        element.innerHTML = '';\n",
              "        dataTable['output_type'] = 'display_data';\n",
              "        await google.colab.output.renderOutput(dataTable, element);\n",
              "        const docLink = document.createElement('div');\n",
              "        docLink.innerHTML = docLinkHtml;\n",
              "        element.appendChild(docLink);\n",
              "      }\n",
              "    </script>\n",
              "  </div>\n",
              "\n",
              "\n",
              "    <div id=\"df-71598a99-bb0c-4309-a3f8-2b074564a231\">\n",
              "      <button class=\"colab-df-quickchart\" onclick=\"quickchart('df-71598a99-bb0c-4309-a3f8-2b074564a231')\"\n",
              "                title=\"Suggest charts\"\n",
              "                style=\"display:none;\">\n",
              "\n",
              "<svg xmlns=\"http://www.w3.org/2000/svg\" height=\"24px\"viewBox=\"0 0 24 24\"\n",
              "     width=\"24px\">\n",
              "    <g>\n",
              "        <path d=\"M19 3H5c-1.1 0-2 .9-2 2v14c0 1.1.9 2 2 2h14c1.1 0 2-.9 2-2V5c0-1.1-.9-2-2-2zM9 17H7v-7h2v7zm4 0h-2V7h2v10zm4 0h-2v-4h2v4z\"/>\n",
              "    </g>\n",
              "</svg>\n",
              "      </button>\n",
              "\n",
              "<style>\n",
              "  .colab-df-quickchart {\n",
              "      --bg-color: #E8F0FE;\n",
              "      --fill-color: #1967D2;\n",
              "      --hover-bg-color: #E2EBFA;\n",
              "      --hover-fill-color: #174EA6;\n",
              "      --disabled-fill-color: #AAA;\n",
              "      --disabled-bg-color: #DDD;\n",
              "  }\n",
              "\n",
              "  [theme=dark] .colab-df-quickchart {\n",
              "      --bg-color: #3B4455;\n",
              "      --fill-color: #D2E3FC;\n",
              "      --hover-bg-color: #434B5C;\n",
              "      --hover-fill-color: #FFFFFF;\n",
              "      --disabled-bg-color: #3B4455;\n",
              "      --disabled-fill-color: #666;\n",
              "  }\n",
              "\n",
              "  .colab-df-quickchart {\n",
              "    background-color: var(--bg-color);\n",
              "    border: none;\n",
              "    border-radius: 50%;\n",
              "    cursor: pointer;\n",
              "    display: none;\n",
              "    fill: var(--fill-color);\n",
              "    height: 32px;\n",
              "    padding: 0;\n",
              "    width: 32px;\n",
              "  }\n",
              "\n",
              "  .colab-df-quickchart:hover {\n",
              "    background-color: var(--hover-bg-color);\n",
              "    box-shadow: 0 1px 2px rgba(60, 64, 67, 0.3), 0 1px 3px 1px rgba(60, 64, 67, 0.15);\n",
              "    fill: var(--button-hover-fill-color);\n",
              "  }\n",
              "\n",
              "  .colab-df-quickchart-complete:disabled,\n",
              "  .colab-df-quickchart-complete:disabled:hover {\n",
              "    background-color: var(--disabled-bg-color);\n",
              "    fill: var(--disabled-fill-color);\n",
              "    box-shadow: none;\n",
              "  }\n",
              "\n",
              "  .colab-df-spinner {\n",
              "    border: 2px solid var(--fill-color);\n",
              "    border-color: transparent;\n",
              "    border-bottom-color: var(--fill-color);\n",
              "    animation:\n",
              "      spin 1s steps(1) infinite;\n",
              "  }\n",
              "\n",
              "  @keyframes spin {\n",
              "    0% {\n",
              "      border-color: transparent;\n",
              "      border-bottom-color: var(--fill-color);\n",
              "      border-left-color: var(--fill-color);\n",
              "    }\n",
              "    20% {\n",
              "      border-color: transparent;\n",
              "      border-left-color: var(--fill-color);\n",
              "      border-top-color: var(--fill-color);\n",
              "    }\n",
              "    30% {\n",
              "      border-color: transparent;\n",
              "      border-left-color: var(--fill-color);\n",
              "      border-top-color: var(--fill-color);\n",
              "      border-right-color: var(--fill-color);\n",
              "    }\n",
              "    40% {\n",
              "      border-color: transparent;\n",
              "      border-right-color: var(--fill-color);\n",
              "      border-top-color: var(--fill-color);\n",
              "    }\n",
              "    60% {\n",
              "      border-color: transparent;\n",
              "      border-right-color: var(--fill-color);\n",
              "    }\n",
              "    80% {\n",
              "      border-color: transparent;\n",
              "      border-right-color: var(--fill-color);\n",
              "      border-bottom-color: var(--fill-color);\n",
              "    }\n",
              "    90% {\n",
              "      border-color: transparent;\n",
              "      border-bottom-color: var(--fill-color);\n",
              "    }\n",
              "  }\n",
              "</style>\n",
              "\n",
              "      <script>\n",
              "        async function quickchart(key) {\n",
              "          const quickchartButtonEl =\n",
              "            document.querySelector('#' + key + ' button');\n",
              "          quickchartButtonEl.disabled = true;  // To prevent multiple clicks.\n",
              "          quickchartButtonEl.classList.add('colab-df-spinner');\n",
              "          try {\n",
              "            const charts = await google.colab.kernel.invokeFunction(\n",
              "                'suggestCharts', [key], {});\n",
              "          } catch (error) {\n",
              "            console.error('Error during call to suggestCharts:', error);\n",
              "          }\n",
              "          quickchartButtonEl.classList.remove('colab-df-spinner');\n",
              "          quickchartButtonEl.classList.add('colab-df-quickchart-complete');\n",
              "        }\n",
              "        (() => {\n",
              "          let quickchartButtonEl =\n",
              "            document.querySelector('#df-71598a99-bb0c-4309-a3f8-2b074564a231 button');\n",
              "          quickchartButtonEl.style.display =\n",
              "            google.colab.kernel.accessAllowed ? 'block' : 'none';\n",
              "        })();\n",
              "      </script>\n",
              "    </div>\n",
              "\n",
              "  <div id=\"id_bfd3d8b1-2b6e-43af-b8d2-e0ee992c8b81\">\n",
              "    <style>\n",
              "      .colab-df-generate {\n",
              "        background-color: #E8F0FE;\n",
              "        border: none;\n",
              "        border-radius: 50%;\n",
              "        cursor: pointer;\n",
              "        display: none;\n",
              "        fill: #1967D2;\n",
              "        height: 32px;\n",
              "        padding: 0 0 0 0;\n",
              "        width: 32px;\n",
              "      }\n",
              "\n",
              "      .colab-df-generate:hover {\n",
              "        background-color: #E2EBFA;\n",
              "        box-shadow: 0px 1px 2px rgba(60, 64, 67, 0.3), 0px 1px 3px 1px rgba(60, 64, 67, 0.15);\n",
              "        fill: #174EA6;\n",
              "      }\n",
              "\n",
              "      [theme=dark] .colab-df-generate {\n",
              "        background-color: #3B4455;\n",
              "        fill: #D2E3FC;\n",
              "      }\n",
              "\n",
              "      [theme=dark] .colab-df-generate:hover {\n",
              "        background-color: #434B5C;\n",
              "        box-shadow: 0px 1px 3px 1px rgba(0, 0, 0, 0.15);\n",
              "        filter: drop-shadow(0px 1px 2px rgba(0, 0, 0, 0.3));\n",
              "        fill: #FFFFFF;\n",
              "      }\n",
              "    </style>\n",
              "    <button class=\"colab-df-generate\" onclick=\"generateWithVariable('tablaDatos')\"\n",
              "            title=\"Generate code using this dataframe.\"\n",
              "            style=\"display:none;\">\n",
              "\n",
              "  <svg xmlns=\"http://www.w3.org/2000/svg\" height=\"24px\"viewBox=\"0 0 24 24\"\n",
              "       width=\"24px\">\n",
              "    <path d=\"M7,19H8.4L18.45,9,17,7.55,7,17.6ZM5,21V16.75L18.45,3.32a2,2,0,0,1,2.83,0l1.4,1.43a1.91,1.91,0,0,1,.58,1.4,1.91,1.91,0,0,1-.58,1.4L9.25,21ZM18.45,9,17,7.55Zm-12,3A5.31,5.31,0,0,0,4.9,8.1,5.31,5.31,0,0,0,1,6.5,5.31,5.31,0,0,0,4.9,4.9,5.31,5.31,0,0,0,6.5,1,5.31,5.31,0,0,0,8.1,4.9,5.31,5.31,0,0,0,12,6.5,5.46,5.46,0,0,0,6.5,12Z\"/>\n",
              "  </svg>\n",
              "    </button>\n",
              "    <script>\n",
              "      (() => {\n",
              "      const buttonEl =\n",
              "        document.querySelector('#id_bfd3d8b1-2b6e-43af-b8d2-e0ee992c8b81 button.colab-df-generate');\n",
              "      buttonEl.style.display =\n",
              "        google.colab.kernel.accessAllowed ? 'block' : 'none';\n",
              "\n",
              "      buttonEl.onclick = () => {\n",
              "        google.colab.notebook.generateWithVariable('tablaDatos');\n",
              "      }\n",
              "      })();\n",
              "    </script>\n",
              "  </div>\n",
              "\n",
              "    </div>\n",
              "  </div>\n"
            ],
            "application/vnd.google.colaboratory.intrinsic+json": {
              "type": "dataframe",
              "variable_name": "tablaDatos",
              "summary": "{\n  \"name\": \"tablaDatos\",\n  \"rows\": 4,\n  \"fields\": [\n    {\n      \"column\": \"Ingreso Total\",\n      \"properties\": {\n        \"dtype\": \"number\",\n        \"std\": 47096096.01265622,\n        \"min\": 1038375700.0,\n        \"max\": 1150880400.0,\n        \"num_unique_values\": 4,\n        \"samples\": [\n          1116343500.0,\n          1038375700.0,\n          1150880400.0\n        ],\n        \"semantic_type\": \"\",\n        \"description\": \"\"\n      }\n    },\n    {\n      \"column\": \"Ventas Totales\",\n      \"properties\": {\n        \"dtype\": \"number\",\n        \"std\": 0,\n        \"min\": 2358,\n        \"max\": 2359,\n        \"num_unique_values\": 2,\n        \"samples\": [\n          2358,\n          2359\n        ],\n        \"semantic_type\": \"\",\n        \"description\": \"\"\n      }\n    },\n    {\n      \"column\": \"Calificaci\\u00f3n promedio\",\n      \"properties\": {\n        \"dtype\": \"number\",\n        \"std\": 0.03304037933599831,\n        \"min\": 3.98,\n        \"max\": 4.05,\n        \"num_unique_values\": 4,\n        \"samples\": [\n          4.04,\n          4.0\n        ],\n        \"semantic_type\": \"\",\n        \"description\": \"\"\n      }\n    },\n    {\n      \"column\": \"Costo de env\\u00edo promedio\",\n      \"properties\": {\n        \"dtype\": \"number\",\n        \"std\": 1069.7113822078372,\n        \"min\": 23459.46,\n        \"max\": 26018.61,\n        \"num_unique_values\": 4,\n        \"samples\": [\n          25216.24,\n          23459.46\n        ],\n        \"semantic_type\": \"\",\n        \"description\": \"\"\n      }\n    },\n    {\n      \"column\": \"Lugar de con mayor compra\",\n      \"properties\": {\n        \"dtype\": \"category\",\n        \"num_unique_values\": 1,\n        \"samples\": [\n          \"Bogot\\u00e1\"\n        ],\n        \"semantic_type\": \"\",\n        \"description\": \"\"\n      }\n    },\n    {\n      \"column\": \"Ingresos Netos\",\n      \"properties\": {\n        \"dtype\": \"number\",\n        \"std\": 44562338.17732189,\n        \"min\": 983058300.0,\n        \"max\": 1089502500.0,\n        \"num_unique_values\": 4,\n        \"samples\": [\n          1056858400.0\n        ],\n        \"semantic_type\": \"\",\n        \"description\": \"\"\n      }\n    }\n  ]\n}"
            }
          },
          "metadata": {},
          "execution_count": 63
        }
      ]
    },
    {
      "cell_type": "code",
      "source": [
        "tablaDatosPorcentaje"
      ],
      "metadata": {
        "id": "EDUJub_1Zv8a",
        "outputId": "a4a3cc76-f267-4185-a32a-d8edb71f41da",
        "colab": {
          "base_uri": "https://localhost:8080/",
          "height": 175
        }
      },
      "execution_count": 64,
      "outputs": [
        {
          "output_type": "execute_result",
          "data": {
            "text/plain": [
              "          Ingreso Total  Ventas Totales  Calificación promedio  \\\n",
              "Tienda 1          26.13           25.00                  24.77   \n",
              "Tienda 2          25.35           25.00                  25.14   \n",
              "Tienda 3          24.93           25.00                  25.20   \n",
              "Tienda 4          23.58           24.99                  24.89   \n",
              "\n",
              "          Costo de envío promedio  \n",
              "Tienda 1                    26.15  \n",
              "Tienda 2                    25.34  \n",
              "Tienda 3                    24.93  \n",
              "Tienda 4                    23.58  "
            ],
            "text/html": [
              "\n",
              "  <div id=\"df-23209051-094e-459e-bc7f-6b9705dbc643\" class=\"colab-df-container\">\n",
              "    <div>\n",
              "<style scoped>\n",
              "    .dataframe tbody tr th:only-of-type {\n",
              "        vertical-align: middle;\n",
              "    }\n",
              "\n",
              "    .dataframe tbody tr th {\n",
              "        vertical-align: top;\n",
              "    }\n",
              "\n",
              "    .dataframe thead th {\n",
              "        text-align: right;\n",
              "    }\n",
              "</style>\n",
              "<table border=\"1\" class=\"dataframe\">\n",
              "  <thead>\n",
              "    <tr style=\"text-align: right;\">\n",
              "      <th></th>\n",
              "      <th>Ingreso Total</th>\n",
              "      <th>Ventas Totales</th>\n",
              "      <th>Calificación promedio</th>\n",
              "      <th>Costo de envío promedio</th>\n",
              "    </tr>\n",
              "  </thead>\n",
              "  <tbody>\n",
              "    <tr>\n",
              "      <th>Tienda 1</th>\n",
              "      <td>26.13</td>\n",
              "      <td>25.00</td>\n",
              "      <td>24.77</td>\n",
              "      <td>26.15</td>\n",
              "    </tr>\n",
              "    <tr>\n",
              "      <th>Tienda 2</th>\n",
              "      <td>25.35</td>\n",
              "      <td>25.00</td>\n",
              "      <td>25.14</td>\n",
              "      <td>25.34</td>\n",
              "    </tr>\n",
              "    <tr>\n",
              "      <th>Tienda 3</th>\n",
              "      <td>24.93</td>\n",
              "      <td>25.00</td>\n",
              "      <td>25.20</td>\n",
              "      <td>24.93</td>\n",
              "    </tr>\n",
              "    <tr>\n",
              "      <th>Tienda 4</th>\n",
              "      <td>23.58</td>\n",
              "      <td>24.99</td>\n",
              "      <td>24.89</td>\n",
              "      <td>23.58</td>\n",
              "    </tr>\n",
              "  </tbody>\n",
              "</table>\n",
              "</div>\n",
              "    <div class=\"colab-df-buttons\">\n",
              "\n",
              "  <div class=\"colab-df-container\">\n",
              "    <button class=\"colab-df-convert\" onclick=\"convertToInteractive('df-23209051-094e-459e-bc7f-6b9705dbc643')\"\n",
              "            title=\"Convert this dataframe to an interactive table.\"\n",
              "            style=\"display:none;\">\n",
              "\n",
              "  <svg xmlns=\"http://www.w3.org/2000/svg\" height=\"24px\" viewBox=\"0 -960 960 960\">\n",
              "    <path d=\"M120-120v-720h720v720H120Zm60-500h600v-160H180v160Zm220 220h160v-160H400v160Zm0 220h160v-160H400v160ZM180-400h160v-160H180v160Zm440 0h160v-160H620v160ZM180-180h160v-160H180v160Zm440 0h160v-160H620v160Z\"/>\n",
              "  </svg>\n",
              "    </button>\n",
              "\n",
              "  <style>\n",
              "    .colab-df-container {\n",
              "      display:flex;\n",
              "      gap: 12px;\n",
              "    }\n",
              "\n",
              "    .colab-df-convert {\n",
              "      background-color: #E8F0FE;\n",
              "      border: none;\n",
              "      border-radius: 50%;\n",
              "      cursor: pointer;\n",
              "      display: none;\n",
              "      fill: #1967D2;\n",
              "      height: 32px;\n",
              "      padding: 0 0 0 0;\n",
              "      width: 32px;\n",
              "    }\n",
              "\n",
              "    .colab-df-convert:hover {\n",
              "      background-color: #E2EBFA;\n",
              "      box-shadow: 0px 1px 2px rgba(60, 64, 67, 0.3), 0px 1px 3px 1px rgba(60, 64, 67, 0.15);\n",
              "      fill: #174EA6;\n",
              "    }\n",
              "\n",
              "    .colab-df-buttons div {\n",
              "      margin-bottom: 4px;\n",
              "    }\n",
              "\n",
              "    [theme=dark] .colab-df-convert {\n",
              "      background-color: #3B4455;\n",
              "      fill: #D2E3FC;\n",
              "    }\n",
              "\n",
              "    [theme=dark] .colab-df-convert:hover {\n",
              "      background-color: #434B5C;\n",
              "      box-shadow: 0px 1px 3px 1px rgba(0, 0, 0, 0.15);\n",
              "      filter: drop-shadow(0px 1px 2px rgba(0, 0, 0, 0.3));\n",
              "      fill: #FFFFFF;\n",
              "    }\n",
              "  </style>\n",
              "\n",
              "    <script>\n",
              "      const buttonEl =\n",
              "        document.querySelector('#df-23209051-094e-459e-bc7f-6b9705dbc643 button.colab-df-convert');\n",
              "      buttonEl.style.display =\n",
              "        google.colab.kernel.accessAllowed ? 'block' : 'none';\n",
              "\n",
              "      async function convertToInteractive(key) {\n",
              "        const element = document.querySelector('#df-23209051-094e-459e-bc7f-6b9705dbc643');\n",
              "        const dataTable =\n",
              "          await google.colab.kernel.invokeFunction('convertToInteractive',\n",
              "                                                    [key], {});\n",
              "        if (!dataTable) return;\n",
              "\n",
              "        const docLinkHtml = 'Like what you see? Visit the ' +\n",
              "          '<a target=\"_blank\" href=https://colab.research.google.com/notebooks/data_table.ipynb>data table notebook</a>'\n",
              "          + ' to learn more about interactive tables.';\n",
              "        element.innerHTML = '';\n",
              "        dataTable['output_type'] = 'display_data';\n",
              "        await google.colab.output.renderOutput(dataTable, element);\n",
              "        const docLink = document.createElement('div');\n",
              "        docLink.innerHTML = docLinkHtml;\n",
              "        element.appendChild(docLink);\n",
              "      }\n",
              "    </script>\n",
              "  </div>\n",
              "\n",
              "\n",
              "    <div id=\"df-e5c9f434-fd10-40cb-9ed0-bfc24a5c7871\">\n",
              "      <button class=\"colab-df-quickchart\" onclick=\"quickchart('df-e5c9f434-fd10-40cb-9ed0-bfc24a5c7871')\"\n",
              "                title=\"Suggest charts\"\n",
              "                style=\"display:none;\">\n",
              "\n",
              "<svg xmlns=\"http://www.w3.org/2000/svg\" height=\"24px\"viewBox=\"0 0 24 24\"\n",
              "     width=\"24px\">\n",
              "    <g>\n",
              "        <path d=\"M19 3H5c-1.1 0-2 .9-2 2v14c0 1.1.9 2 2 2h14c1.1 0 2-.9 2-2V5c0-1.1-.9-2-2-2zM9 17H7v-7h2v7zm4 0h-2V7h2v10zm4 0h-2v-4h2v4z\"/>\n",
              "    </g>\n",
              "</svg>\n",
              "      </button>\n",
              "\n",
              "<style>\n",
              "  .colab-df-quickchart {\n",
              "      --bg-color: #E8F0FE;\n",
              "      --fill-color: #1967D2;\n",
              "      --hover-bg-color: #E2EBFA;\n",
              "      --hover-fill-color: #174EA6;\n",
              "      --disabled-fill-color: #AAA;\n",
              "      --disabled-bg-color: #DDD;\n",
              "  }\n",
              "\n",
              "  [theme=dark] .colab-df-quickchart {\n",
              "      --bg-color: #3B4455;\n",
              "      --fill-color: #D2E3FC;\n",
              "      --hover-bg-color: #434B5C;\n",
              "      --hover-fill-color: #FFFFFF;\n",
              "      --disabled-bg-color: #3B4455;\n",
              "      --disabled-fill-color: #666;\n",
              "  }\n",
              "\n",
              "  .colab-df-quickchart {\n",
              "    background-color: var(--bg-color);\n",
              "    border: none;\n",
              "    border-radius: 50%;\n",
              "    cursor: pointer;\n",
              "    display: none;\n",
              "    fill: var(--fill-color);\n",
              "    height: 32px;\n",
              "    padding: 0;\n",
              "    width: 32px;\n",
              "  }\n",
              "\n",
              "  .colab-df-quickchart:hover {\n",
              "    background-color: var(--hover-bg-color);\n",
              "    box-shadow: 0 1px 2px rgba(60, 64, 67, 0.3), 0 1px 3px 1px rgba(60, 64, 67, 0.15);\n",
              "    fill: var(--button-hover-fill-color);\n",
              "  }\n",
              "\n",
              "  .colab-df-quickchart-complete:disabled,\n",
              "  .colab-df-quickchart-complete:disabled:hover {\n",
              "    background-color: var(--disabled-bg-color);\n",
              "    fill: var(--disabled-fill-color);\n",
              "    box-shadow: none;\n",
              "  }\n",
              "\n",
              "  .colab-df-spinner {\n",
              "    border: 2px solid var(--fill-color);\n",
              "    border-color: transparent;\n",
              "    border-bottom-color: var(--fill-color);\n",
              "    animation:\n",
              "      spin 1s steps(1) infinite;\n",
              "  }\n",
              "\n",
              "  @keyframes spin {\n",
              "    0% {\n",
              "      border-color: transparent;\n",
              "      border-bottom-color: var(--fill-color);\n",
              "      border-left-color: var(--fill-color);\n",
              "    }\n",
              "    20% {\n",
              "      border-color: transparent;\n",
              "      border-left-color: var(--fill-color);\n",
              "      border-top-color: var(--fill-color);\n",
              "    }\n",
              "    30% {\n",
              "      border-color: transparent;\n",
              "      border-left-color: var(--fill-color);\n",
              "      border-top-color: var(--fill-color);\n",
              "      border-right-color: var(--fill-color);\n",
              "    }\n",
              "    40% {\n",
              "      border-color: transparent;\n",
              "      border-right-color: var(--fill-color);\n",
              "      border-top-color: var(--fill-color);\n",
              "    }\n",
              "    60% {\n",
              "      border-color: transparent;\n",
              "      border-right-color: var(--fill-color);\n",
              "    }\n",
              "    80% {\n",
              "      border-color: transparent;\n",
              "      border-right-color: var(--fill-color);\n",
              "      border-bottom-color: var(--fill-color);\n",
              "    }\n",
              "    90% {\n",
              "      border-color: transparent;\n",
              "      border-bottom-color: var(--fill-color);\n",
              "    }\n",
              "  }\n",
              "</style>\n",
              "\n",
              "      <script>\n",
              "        async function quickchart(key) {\n",
              "          const quickchartButtonEl =\n",
              "            document.querySelector('#' + key + ' button');\n",
              "          quickchartButtonEl.disabled = true;  // To prevent multiple clicks.\n",
              "          quickchartButtonEl.classList.add('colab-df-spinner');\n",
              "          try {\n",
              "            const charts = await google.colab.kernel.invokeFunction(\n",
              "                'suggestCharts', [key], {});\n",
              "          } catch (error) {\n",
              "            console.error('Error during call to suggestCharts:', error);\n",
              "          }\n",
              "          quickchartButtonEl.classList.remove('colab-df-spinner');\n",
              "          quickchartButtonEl.classList.add('colab-df-quickchart-complete');\n",
              "        }\n",
              "        (() => {\n",
              "          let quickchartButtonEl =\n",
              "            document.querySelector('#df-e5c9f434-fd10-40cb-9ed0-bfc24a5c7871 button');\n",
              "          quickchartButtonEl.style.display =\n",
              "            google.colab.kernel.accessAllowed ? 'block' : 'none';\n",
              "        })();\n",
              "      </script>\n",
              "    </div>\n",
              "\n",
              "  <div id=\"id_338bcf04-8764-41f3-9e97-8815e43cbc1c\">\n",
              "    <style>\n",
              "      .colab-df-generate {\n",
              "        background-color: #E8F0FE;\n",
              "        border: none;\n",
              "        border-radius: 50%;\n",
              "        cursor: pointer;\n",
              "        display: none;\n",
              "        fill: #1967D2;\n",
              "        height: 32px;\n",
              "        padding: 0 0 0 0;\n",
              "        width: 32px;\n",
              "      }\n",
              "\n",
              "      .colab-df-generate:hover {\n",
              "        background-color: #E2EBFA;\n",
              "        box-shadow: 0px 1px 2px rgba(60, 64, 67, 0.3), 0px 1px 3px 1px rgba(60, 64, 67, 0.15);\n",
              "        fill: #174EA6;\n",
              "      }\n",
              "\n",
              "      [theme=dark] .colab-df-generate {\n",
              "        background-color: #3B4455;\n",
              "        fill: #D2E3FC;\n",
              "      }\n",
              "\n",
              "      [theme=dark] .colab-df-generate:hover {\n",
              "        background-color: #434B5C;\n",
              "        box-shadow: 0px 1px 3px 1px rgba(0, 0, 0, 0.15);\n",
              "        filter: drop-shadow(0px 1px 2px rgba(0, 0, 0, 0.3));\n",
              "        fill: #FFFFFF;\n",
              "      }\n",
              "    </style>\n",
              "    <button class=\"colab-df-generate\" onclick=\"generateWithVariable('tablaDatosPorcentaje')\"\n",
              "            title=\"Generate code using this dataframe.\"\n",
              "            style=\"display:none;\">\n",
              "\n",
              "  <svg xmlns=\"http://www.w3.org/2000/svg\" height=\"24px\"viewBox=\"0 0 24 24\"\n",
              "       width=\"24px\">\n",
              "    <path d=\"M7,19H8.4L18.45,9,17,7.55,7,17.6ZM5,21V16.75L18.45,3.32a2,2,0,0,1,2.83,0l1.4,1.43a1.91,1.91,0,0,1,.58,1.4,1.91,1.91,0,0,1-.58,1.4L9.25,21ZM18.45,9,17,7.55Zm-12,3A5.31,5.31,0,0,0,4.9,8.1,5.31,5.31,0,0,0,1,6.5,5.31,5.31,0,0,0,4.9,4.9,5.31,5.31,0,0,0,6.5,1,5.31,5.31,0,0,0,8.1,4.9,5.31,5.31,0,0,0,12,6.5,5.46,5.46,0,0,0,6.5,12Z\"/>\n",
              "  </svg>\n",
              "    </button>\n",
              "    <script>\n",
              "      (() => {\n",
              "      const buttonEl =\n",
              "        document.querySelector('#id_338bcf04-8764-41f3-9e97-8815e43cbc1c button.colab-df-generate');\n",
              "      buttonEl.style.display =\n",
              "        google.colab.kernel.accessAllowed ? 'block' : 'none';\n",
              "\n",
              "      buttonEl.onclick = () => {\n",
              "        google.colab.notebook.generateWithVariable('tablaDatosPorcentaje');\n",
              "      }\n",
              "      })();\n",
              "    </script>\n",
              "  </div>\n",
              "\n",
              "    </div>\n",
              "  </div>\n"
            ],
            "application/vnd.google.colaboratory.intrinsic+json": {
              "type": "dataframe",
              "variable_name": "tablaDatosPorcentaje",
              "summary": "{\n  \"name\": \"tablaDatosPorcentaje\",\n  \"rows\": 4,\n  \"fields\": [\n    {\n      \"column\": \"Ingreso Total\",\n      \"properties\": {\n        \"dtype\": \"number\",\n        \"std\": 1.067813185908472,\n        \"min\": 23.58,\n        \"max\": 26.13,\n        \"num_unique_values\": 4,\n        \"samples\": [\n          25.35,\n          23.58,\n          26.13\n        ],\n        \"semantic_type\": \"\",\n        \"description\": \"\"\n      }\n    },\n    {\n      \"column\": \"Ventas Totales\",\n      \"properties\": {\n        \"dtype\": \"number\",\n        \"std\": 0.005000000000000782,\n        \"min\": 24.99,\n        \"max\": 25.0,\n        \"num_unique_values\": 2,\n        \"samples\": [\n          24.99,\n          25.0\n        ],\n        \"semantic_type\": \"\",\n        \"description\": \"\"\n      }\n    },\n    {\n      \"column\": \"Calificaci\\u00f3n promedio\",\n      \"properties\": {\n        \"dtype\": \"number\",\n        \"std\": 0.20379728490177026,\n        \"min\": 24.77,\n        \"max\": 25.2,\n        \"num_unique_values\": 4,\n        \"samples\": [\n          25.14,\n          24.89\n        ],\n        \"semantic_type\": \"\",\n        \"description\": \"\"\n      }\n    },\n    {\n      \"column\": \"Costo de env\\u00edo promedio\",\n      \"properties\": {\n        \"dtype\": \"number\",\n        \"std\": 1.0738404599070264,\n        \"min\": 23.58,\n        \"max\": 26.15,\n        \"num_unique_values\": 4,\n        \"samples\": [\n          25.34,\n          23.58\n        ],\n        \"semantic_type\": \"\",\n        \"description\": \"\"\n      }\n    }\n  ]\n}"
            }
          },
          "metadata": {},
          "execution_count": 64
        }
      ]
    },
    {
      "cell_type": "code",
      "source": [
        "# Graficas que compara el ingreso total.\n",
        "myexplode = [0,0,0,0.1]\n",
        "pieTiendas(tablaDatos,'Ingreso Total', 'Ingreso Total', myexplode)"
      ],
      "metadata": {
        "colab": {
          "base_uri": "https://localhost:8080/",
          "height": 435
        },
        "id": "8fK4gt_l8gXf",
        "outputId": "3f3defea-9e57-4ae1-cfeb-7427bc1e6f46"
      },
      "execution_count": 58,
      "outputs": [
        {
          "output_type": "display_data",
          "data": {
            "text/plain": [
              "<Figure size 640x480 with 1 Axes>"
            ],
            "image/png": "[encoded data removed]"
          },
          "metadata": {}
        }
      ]
    },
    {
      "cell_type": "code",
      "source": [
        "myexplode = [0.1,0,0,0]\n",
        "pieTiendas(tablaDatos,'Calificación promedio', 'Calificación promedio', myexplode)"
      ],
      "metadata": {
        "colab": {
          "base_uri": "https://localhost:8080/",
          "height": 437
        },
        "id": "YEfCebLx9paN",
        "outputId": "6001e7f7-a6c0-49f6-f241-005d1304c596"
      },
      "execution_count": 59,
      "outputs": [
        {
          "output_type": "display_data",
          "data": {
            "text/plain": [
              "<Figure size 640x480 with 1 Axes>"
            ],
            "image/png": "[encoded data removed]"
          },
          "metadata": {}
        }
      ]
    },
    {
      "cell_type": "code",
      "source": [
        "myexplode = [0.1,0,0,0]\n",
        "pieTiendas(tablaDatos,'Costo de envío promedio', 'Costo de envío promedio', myexplode)"
      ],
      "metadata": {
        "colab": {
          "base_uri": "https://localhost:8080/",
          "height": 437
        },
        "id": "_BE5-fdr96vr",
        "outputId": "c9250e25-eb56-4aa2-c1ea-a550c84241ea"
      },
      "execution_count": 60,
      "outputs": [
        {
          "output_type": "display_data",
          "data": {
            "text/plain": [
              "<Figure size 640x480 with 1 Axes>"
            ],
            "image/png": "[encoded data removed]"
          },
          "metadata": {}
        }
      ]
    },
    {
      "cell_type": "markdown",
      "source": [
        "Podemos notar que en terminos de porcentaje [(tablaDatosPorcentaje)](https://colab.research.google.com/github/BjorkMagno/Portafolio/blob/main/challenge-para-decidir-venta/AluraStoreLatam.ipynb#scrollTo=EDUJub_1Zv8a&line=1&uniqifier=1) que tanto en ingresos totales como ingresos brutos (despues de costos de envio), la cuarta tienda nos da un menor ingreso.\n",
        "\n",
        "No obstante de la tabla de datos [(tablaDatos)](https://colab.research.google.com/github/BjorkMagno/Portafolio/blob/main/challenge-para-decidir-venta/AluraStoreLatam.ipynb#scrollTo=dgX3i43oXNgc&line=1&uniqifier=1) que los datos no son distantes en cuestion de calificacion e ingresos brutos, pero la primera tienda tiene un costo de ventas mayor. Por lo que, puede ver en las graficas de pie de las tiendas se puede ver que:\n",
        "\n",
        "***\n",
        "- **Tienda 1:** Menor calificación, mayor ingreso total y costo de envió.\n",
        "- **Tienda 2:** Tiene una calificación regular, menor ingreso total y costo de envió.\n",
        "- **Tienda 3:** Tiene la mejor calificación pero no es distante de la tienda 2 asi como los ingreso totales y costos de envió.\n",
        "***"
      ],
      "metadata": {
        "id": "wtnfEObRZnWf"
      }
    },
    {
      "cell_type": "code",
      "source": [
        "# Categorías.\n",
        "categorias = np.array(tablaDeCategorias.index)\n",
        "\n",
        "# Barras de las tiendas.\n",
        "plt.bar(tablaDeCategorias['Ventas (tienda 1)'], categorias, width=2, color='#0707FF', label='Tienda 1')\n",
        "plt.bar(tablaDeCategorias['Ventas (tienda 2)'], categorias, width=1.75, color='#444480', label='Tienda 2')\n",
        "plt.bar(tablaDeCategorias['Ventas (tienda 3)'], categorias, width=1.50, color='#FFB408', label='Tienda 3')\n",
        "plt.bar(tablaDeCategorias['Ventas (tienda 4)'], categorias, width=1.25, color='#FFF008', label='Tienda 4')\n",
        "\n",
        "# Titulos\n",
        "plt.title('CATEGORÍAS MÁS POPULARES', fontdict = fontTitle)\n",
        "plt.xlabel('Ventas', fontdict=fontSubtitle)\n",
        "plt.ylabel('Categorías', fontdict=fontSubtitle)\n",
        "\n",
        "# Leyendas a las derecha\n",
        "plt.legend(loc='upper left', bbox_to_anchor=(1, 0.5))\n",
        "\n",
        "# Muestra diagrama\n",
        "plt.show()"
      ],
      "metadata": {
        "colab": {
          "base_uri": "https://localhost:8080/",
          "height": 484
        },
        "id": "kNxwjVlxSSEO",
        "outputId": "387da573-2e6b-41ba-9f30-ca20b2ecaf59"
      },
      "execution_count": null,
      "outputs": [
        {
          "output_type": "display_data",
          "data": {
            "text/plain": [
              "<Figure size 640x480 with 1 Axes>"
            ],
            "image/png": "[encoded data removed]"
          },
          "metadata": {}
        }
      ]
    },
    {
      "cell_type": "code",
      "source": [
        "tablaDatosCategoria"
      ],
      "metadata": {
        "id": "lKJ8MKUjZAr_",
        "outputId": "f1256534-ad15-485e-beef-d2e24003b360",
        "colab": {
          "base_uri": "https://localhost:8080/",
          "height": 296
        }
      },
      "execution_count": 65,
      "outputs": [
        {
          "output_type": "execute_result",
          "data": {
            "text/plain": [
              "  Nombre de las Tiendas Categoría con mayor Ingreso  Ingreso Total (max)  \\\n",
              "0              Tienda 1                Electrónicos          429493500.0   \n",
              "1              Tienda 2                Electrónicos          410831100.0   \n",
              "2              Tienda 3                Electrónicos          410775800.0   \n",
              "3              Tienda 4                Electrónicos          409476100.0   \n",
              "\n",
              "   Ventas de la categoría (max) Categoría con menor Ingreso  \\\n",
              "0                           448                      Libros   \n",
              "1                           422                      Libros   \n",
              "2                           451                      Libros   \n",
              "3                           451                      Libros   \n",
              "\n",
              "   Ingreso Total (min)  Ventas de la categoría (min)  \\\n",
              "0            8784900.0                           173   \n",
              "1           10091200.0                           197   \n",
              "2            9498700.0                           185   \n",
              "3            9321300.0                           187   \n",
              "\n",
              "  Categoría con mayor ventas  Ventas (max)  Ingreso de la categoría (max)  \\\n",
              "0                    Muebles           465                    187633700.0   \n",
              "1                    Muebles           442                    176426300.0   \n",
              "2                    Muebles           499                    201072100.0   \n",
              "3                    Muebles           480                    192528900.0   \n",
              "\n",
              "  Categoría con menor ventas  Ventas (min)  Ingreso de la categoría (min)  \n",
              "0    Artículos para el hogar           171                     12698400.0  \n",
              "1    Artículos para el hogar           181                     14746900.0  \n",
              "2    Artículos para el hogar           177                     15060000.0  \n",
              "3     Instrumentos musicales           170                     75102400.0  "
            ],
            "text/html": [
              "\n",
              "  <div id=\"df-83995516-fd91-4321-89ac-ee1bc088db23\" class=\"colab-df-container\">\n",
              "    <div>\n",
              "<style scoped>\n",
              "    .dataframe tbody tr th:only-of-type {\n",
              "        vertical-align: middle;\n",
              "    }\n",
              "\n",
              "    .dataframe tbody tr th {\n",
              "        vertical-align: top;\n",
              "    }\n",
              "\n",
              "    .dataframe thead th {\n",
              "        text-align: right;\n",
              "    }\n",
              "</style>\n",
              "<table border=\"1\" class=\"dataframe\">\n",
              "  <thead>\n",
              "    <tr style=\"text-align: right;\">\n",
              "      <th></th>\n",
              "      <th>Nombre de las Tiendas</th>\n",
              "      <th>Categoría con mayor Ingreso</th>\n",
              "      <th>Ingreso Total (max)</th>\n",
              "      <th>Ventas de la categoría (max)</th>\n",
              "      <th>Categoría con menor Ingreso</th>\n",
              "      <th>Ingreso Total (min)</th>\n",
              "      <th>Ventas de la categoría (min)</th>\n",
              "      <th>Categoría con mayor ventas</th>\n",
              "      <th>Ventas (max)</th>\n",
              "      <th>Ingreso de la categoría (max)</th>\n",
              "      <th>Categoría con menor ventas</th>\n",
              "      <th>Ventas (min)</th>\n",
              "      <th>Ingreso de la categoría (min)</th>\n",
              "    </tr>\n",
              "  </thead>\n",
              "  <tbody>\n",
              "    <tr>\n",
              "      <th>0</th>\n",
              "      <td>Tienda 1</td>\n",
              "      <td>Electrónicos</td>\n",
              "      <td>429493500.0</td>\n",
              "      <td>448</td>\n",
              "      <td>Libros</td>\n",
              "      <td>8784900.0</td>\n",
              "      <td>173</td>\n",
              "      <td>Muebles</td>\n",
              "      <td>465</td>\n",
              "      <td>187633700.0</td>\n",
              "      <td>Artículos para el hogar</td>\n",
              "      <td>171</td>\n",
              "      <td>12698400.0</td>\n",
              "    </tr>\n",
              "    <tr>\n",
              "      <th>1</th>\n",
              "      <td>Tienda 2</td>\n",
              "      <td>Electrónicos</td>\n",
              "      <td>410831100.0</td>\n",
              "      <td>422</td>\n",
              "      <td>Libros</td>\n",
              "      <td>10091200.0</td>\n",
              "      <td>197</td>\n",
              "      <td>Muebles</td>\n",
              "      <td>442</td>\n",
              "      <td>176426300.0</td>\n",
              "      <td>Artículos para el hogar</td>\n",
              "      <td>181</td>\n",
              "      <td>14746900.0</td>\n",
              "    </tr>\n",
              "    <tr>\n",
              "      <th>2</th>\n",
              "      <td>Tienda 3</td>\n",
              "      <td>Electrónicos</td>\n",
              "      <td>410775800.0</td>\n",
              "      <td>451</td>\n",
              "      <td>Libros</td>\n",
              "      <td>9498700.0</td>\n",
              "      <td>185</td>\n",
              "      <td>Muebles</td>\n",
              "      <td>499</td>\n",
              "      <td>201072100.0</td>\n",
              "      <td>Artículos para el hogar</td>\n",
              "      <td>177</td>\n",
              "      <td>15060000.0</td>\n",
              "    </tr>\n",
              "    <tr>\n",
              "      <th>3</th>\n",
              "      <td>Tienda 4</td>\n",
              "      <td>Electrónicos</td>\n",
              "      <td>409476100.0</td>\n",
              "      <td>451</td>\n",
              "      <td>Libros</td>\n",
              "      <td>9321300.0</td>\n",
              "      <td>187</td>\n",
              "      <td>Muebles</td>\n",
              "      <td>480</td>\n",
              "      <td>192528900.0</td>\n",
              "      <td>Instrumentos musicales</td>\n",
              "      <td>170</td>\n",
              "      <td>75102400.0</td>\n",
              "    </tr>\n",
              "  </tbody>\n",
              "</table>\n",
              "</div>\n",
              "    <div class=\"colab-df-buttons\">\n",
              "\n",
              "  <div class=\"colab-df-container\">\n",
              "    <button class=\"colab-df-convert\" onclick=\"convertToInteractive('df-83995516-fd91-4321-89ac-ee1bc088db23')\"\n",
              "            title=\"Convert this dataframe to an interactive table.\"\n",
              "            style=\"display:none;\">\n",
              "\n",
              "  <svg xmlns=\"http://www.w3.org/2000/svg\" height=\"24px\" viewBox=\"0 -960 960 960\">\n",
              "    <path d=\"M120-120v-720h720v720H120Zm60-500h600v-160H180v160Zm220 220h160v-160H400v160Zm0 220h160v-160H400v160ZM180-400h160v-160H180v160Zm440 0h160v-160H620v160ZM180-180h160v-160H180v160Zm440 0h160v-160H620v160Z\"/>\n",
              "  </svg>\n",
              "    </button>\n",
              "\n",
              "  <style>\n",
              "    .colab-df-container {\n",
              "      display:flex;\n",
              "      gap: 12px;\n",
              "    }\n",
              "\n",
              "    .colab-df-convert {\n",
              "      background-color: #E8F0FE;\n",
              "      border: none;\n",
              "      border-radius: 50%;\n",
              "      cursor: pointer;\n",
              "      display: none;\n",
              "      fill: #1967D2;\n",
              "      height: 32px;\n",
              "      padding: 0 0 0 0;\n",
              "      width: 32px;\n",
              "    }\n",
              "\n",
              "    .colab-df-convert:hover {\n",
              "      background-color: #E2EBFA;\n",
              "      box-shadow: 0px 1px 2px rgba(60, 64, 67, 0.3), 0px 1px 3px 1px rgba(60, 64, 67, 0.15);\n",
              "      fill: #174EA6;\n",
              "    }\n",
              "\n",
              "    .colab-df-buttons div {\n",
              "      margin-bottom: 4px;\n",
              "    }\n",
              "\n",
              "    [theme=dark] .colab-df-convert {\n",
              "      background-color: #3B4455;\n",
              "      fill: #D2E3FC;\n",
              "    }\n",
              "\n",
              "    [theme=dark] .colab-df-convert:hover {\n",
              "      background-color: #434B5C;\n",
              "      box-shadow: 0px 1px 3px 1px rgba(0, 0, 0, 0.15);\n",
              "      filter: drop-shadow(0px 1px 2px rgba(0, 0, 0, 0.3));\n",
              "      fill: #FFFFFF;\n",
              "    }\n",
              "  </style>\n",
              "\n",
              "    <script>\n",
              "      const buttonEl =\n",
              "        document.querySelector('#df-83995516-fd91-4321-89ac-ee1bc088db23 button.colab-df-convert');\n",
              "      buttonEl.style.display =\n",
              "        google.colab.kernel.accessAllowed ? 'block' : 'none';\n",
              "\n",
              "      async function convertToInteractive(key) {\n",
              "        const element = document.querySelector('#df-83995516-fd91-4321-89ac-ee1bc088db23');\n",
              "        const dataTable =\n",
              "          await google.colab.kernel.invokeFunction('convertToInteractive',\n",
              "                                                    [key], {});\n",
              "        if (!dataTable) return;\n",
              "\n",
              "        const docLinkHtml = 'Like what you see? Visit the ' +\n",
              "          '<a target=\"_blank\" href=https://colab.research.google.com/notebooks/data_table.ipynb>data table notebook</a>'\n",
              "          + ' to learn more about interactive tables.';\n",
              "        element.innerHTML = '';\n",
              "        dataTable['output_type'] = 'display_data';\n",
              "        await google.colab.output.renderOutput(dataTable, element);\n",
              "        const docLink = document.createElement('div');\n",
              "        docLink.innerHTML = docLinkHtml;\n",
              "        element.appendChild(docLink);\n",
              "      }\n",
              "    </script>\n",
              "  </div>\n",
              "\n",
              "\n",
              "    <div id=\"df-bea57119-ea9c-4d85-8fda-535809566afd\">\n",
              "      <button class=\"colab-df-quickchart\" onclick=\"quickchart('df-bea57119-ea9c-4d85-8fda-535809566afd')\"\n",
              "                title=\"Suggest charts\"\n",
              "                style=\"display:none;\">\n",
              "\n",
              "<svg xmlns=\"http://www.w3.org/2000/svg\" height=\"24px\"viewBox=\"0 0 24 24\"\n",
              "     width=\"24px\">\n",
              "    <g>\n",
              "        <path d=\"M19 3H5c-1.1 0-2 .9-2 2v14c0 1.1.9 2 2 2h14c1.1 0 2-.9 2-2V5c0-1.1-.9-2-2-2zM9 17H7v-7h2v7zm4 0h-2V7h2v10zm4 0h-2v-4h2v4z\"/>\n",
              "    </g>\n",
              "</svg>\n",
              "      </button>\n",
              "\n",
              "<style>\n",
              "  .colab-df-quickchart {\n",
              "      --bg-color: #E8F0FE;\n",
              "      --fill-color: #1967D2;\n",
              "      --hover-bg-color: #E2EBFA;\n",
              "      --hover-fill-color: #174EA6;\n",
              "      --disabled-fill-color: #AAA;\n",
              "      --disabled-bg-color: #DDD;\n",
              "  }\n",
              "\n",
              "  [theme=dark] .colab-df-quickchart {\n",
              "      --bg-color: #3B4455;\n",
              "      --fill-color: #D2E3FC;\n",
              "      --hover-bg-color: #434B5C;\n",
              "      --hover-fill-color: #FFFFFF;\n",
              "      --disabled-bg-color: #3B4455;\n",
              "      --disabled-fill-color: #666;\n",
              "  }\n",
              "\n",
              "  .colab-df-quickchart {\n",
              "    background-color: var(--bg-color);\n",
              "    border: none;\n",
              "    border-radius: 50%;\n",
              "    cursor: pointer;\n",
              "    display: none;\n",
              "    fill: var(--fill-color);\n",
              "    height: 32px;\n",
              "    padding: 0;\n",
              "    width: 32px;\n",
              "  }\n",
              "\n",
              "  .colab-df-quickchart:hover {\n",
              "    background-color: var(--hover-bg-color);\n",
              "    box-shadow: 0 1px 2px rgba(60, 64, 67, 0.3), 0 1px 3px 1px rgba(60, 64, 67, 0.15);\n",
              "    fill: var(--button-hover-fill-color);\n",
              "  }\n",
              "\n",
              "  .colab-df-quickchart-complete:disabled,\n",
              "  .colab-df-quickchart-complete:disabled:hover {\n",
              "    background-color: var(--disabled-bg-color);\n",
              "    fill: var(--disabled-fill-color);\n",
              "    box-shadow: none;\n",
              "  }\n",
              "\n",
              "  .colab-df-spinner {\n",
              "    border: 2px solid var(--fill-color);\n",
              "    border-color: transparent;\n",
              "    border-bottom-color: var(--fill-color);\n",
              "    animation:\n",
              "      spin 1s steps(1) infinite;\n",
              "  }\n",
              "\n",
              "  @keyframes spin {\n",
              "    0% {\n",
              "      border-color: transparent;\n",
              "      border-bottom-color: var(--fill-color);\n",
              "      border-left-color: var(--fill-color);\n",
              "    }\n",
              "    20% {\n",
              "      border-color: transparent;\n",
              "      border-left-color: var(--fill-color);\n",
              "      border-top-color: var(--fill-color);\n",
              "    }\n",
              "    30% {\n",
              "      border-color: transparent;\n",
              "      border-left-color: var(--fill-color);\n",
              "      border-top-color: var(--fill-color);\n",
              "      border-right-color: var(--fill-color);\n",
              "    }\n",
              "    40% {\n",
              "      border-color: transparent;\n",
              "      border-right-color: var(--fill-color);\n",
              "      border-top-color: var(--fill-color);\n",
              "    }\n",
              "    60% {\n",
              "      border-color: transparent;\n",
              "      border-right-color: var(--fill-color);\n",
              "    }\n",
              "    80% {\n",
              "      border-color: transparent;\n",
              "      border-right-color: var(--fill-color);\n",
              "      border-bottom-color: var(--fill-color);\n",
              "    }\n",
              "    90% {\n",
              "      border-color: transparent;\n",
              "      border-bottom-color: var(--fill-color);\n",
              "    }\n",
              "  }\n",
              "</style>\n",
              "\n",
              "      <script>\n",
              "        async function quickchart(key) {\n",
              "          const quickchartButtonEl =\n",
              "            document.querySelector('#' + key + ' button');\n",
              "          quickchartButtonEl.disabled = true;  // To prevent multiple clicks.\n",
              "          quickchartButtonEl.classList.add('colab-df-spinner');\n",
              "          try {\n",
              "            const charts = await google.colab.kernel.invokeFunction(\n",
              "                'suggestCharts', [key], {});\n",
              "          } catch (error) {\n",
              "            console.error('Error during call to suggestCharts:', error);\n",
              "          }\n",
              "          quickchartButtonEl.classList.remove('colab-df-spinner');\n",
              "          quickchartButtonEl.classList.add('colab-df-quickchart-complete');\n",
              "        }\n",
              "        (() => {\n",
              "          let quickchartButtonEl =\n",
              "            document.querySelector('#df-bea57119-ea9c-4d85-8fda-535809566afd button');\n",
              "          quickchartButtonEl.style.display =\n",
              "            google.colab.kernel.accessAllowed ? 'block' : 'none';\n",
              "        })();\n",
              "      </script>\n",
              "    </div>\n",
              "\n",
              "  <div id=\"id_920b96a9-3430-4883-b875-87c14e6cf5de\">\n",
              "    <style>\n",
              "      .colab-df-generate {\n",
              "        background-color: #E8F0FE;\n",
              "        border: none;\n",
              "        border-radius: 50%;\n",
              "        cursor: pointer;\n",
              "        display: none;\n",
              "        fill: #1967D2;\n",
              "        height: 32px;\n",
              "        padding: 0 0 0 0;\n",
              "        width: 32px;\n",
              "      }\n",
              "\n",
              "      .colab-df-generate:hover {\n",
              "        background-color: #E2EBFA;\n",
              "        box-shadow: 0px 1px 2px rgba(60, 64, 67, 0.3), 0px 1px 3px 1px rgba(60, 64, 67, 0.15);\n",
              "        fill: #174EA6;\n",
              "      }\n",
              "\n",
              "      [theme=dark] .colab-df-generate {\n",
              "        background-color: #3B4455;\n",
              "        fill: #D2E3FC;\n",
              "      }\n",
              "\n",
              "      [theme=dark] .colab-df-generate:hover {\n",
              "        background-color: #434B5C;\n",
              "        box-shadow: 0px 1px 3px 1px rgba(0, 0, 0, 0.15);\n",
              "        filter: drop-shadow(0px 1px 2px rgba(0, 0, 0, 0.3));\n",
              "        fill: #FFFFFF;\n",
              "      }\n",
              "    </style>\n",
              "    <button class=\"colab-df-generate\" onclick=\"generateWithVariable('tablaDatosCategoria')\"\n",
              "            title=\"Generate code using this dataframe.\"\n",
              "            style=\"display:none;\">\n",
              "\n",
              "  <svg xmlns=\"http://www.w3.org/2000/svg\" height=\"24px\"viewBox=\"0 0 24 24\"\n",
              "       width=\"24px\">\n",
              "    <path d=\"M7,19H8.4L18.45,9,17,7.55,7,17.6ZM5,21V16.75L18.45,3.32a2,2,0,0,1,2.83,0l1.4,1.43a1.91,1.91,0,0,1,.58,1.4,1.91,1.91,0,0,1-.58,1.4L9.25,21ZM18.45,9,17,7.55Zm-12,3A5.31,5.31,0,0,0,4.9,8.1,5.31,5.31,0,0,0,1,6.5,5.31,5.31,0,0,0,4.9,4.9,5.31,5.31,0,0,0,6.5,1,5.31,5.31,0,0,0,8.1,4.9,5.31,5.31,0,0,0,12,6.5,5.46,5.46,0,0,0,6.5,12Z\"/>\n",
              "  </svg>\n",
              "    </button>\n",
              "    <script>\n",
              "      (() => {\n",
              "      const buttonEl =\n",
              "        document.querySelector('#id_920b96a9-3430-4883-b875-87c14e6cf5de button.colab-df-generate');\n",
              "      buttonEl.style.display =\n",
              "        google.colab.kernel.accessAllowed ? 'block' : 'none';\n",
              "\n",
              "      buttonEl.onclick = () => {\n",
              "        google.colab.notebook.generateWithVariable('tablaDatosCategoria');\n",
              "      }\n",
              "      })();\n",
              "    </script>\n",
              "  </div>\n",
              "\n",
              "    </div>\n",
              "  </div>\n"
            ],
            "application/vnd.google.colaboratory.intrinsic+json": {
              "type": "dataframe",
              "variable_name": "tablaDatosCategoria",
              "summary": "{\n  \"name\": \"tablaDatosCategoria\",\n  \"rows\": 4,\n  \"fields\": [\n    {\n      \"column\": \"Nombre de las Tiendas\",\n      \"properties\": {\n        \"dtype\": \"string\",\n        \"num_unique_values\": 4,\n        \"samples\": [\n          \"Tienda 2\",\n          \"Tienda 4\",\n          \"Tienda 1\"\n        ],\n        \"semantic_type\": \"\",\n        \"description\": \"\"\n      }\n    },\n    {\n      \"column\": \"Categor\\u00eda con mayor Ingreso\",\n      \"properties\": {\n        \"dtype\": \"category\",\n        \"num_unique_values\": 1,\n        \"samples\": [\n          \"Electr\\u00f3nicos\"\n        ],\n        \"semantic_type\": \"\",\n        \"description\": \"\"\n      }\n    },\n    {\n      \"column\": \"Ingreso Total (max)\",\n      \"properties\": {\n        \"dtype\": \"number\",\n        \"std\": 9586718.560027028,\n        \"min\": 409476100.0,\n        \"max\": 429493500.0,\n        \"num_unique_values\": 4,\n        \"samples\": [\n          410831100.0\n        ],\n        \"semantic_type\": \"\",\n        \"description\": \"\"\n      }\n    },\n    {\n      \"column\": \"Ventas de la categor\\u00eda (max)\",\n      \"properties\": {\n        \"dtype\": \"number\",\n        \"std\": 14,\n        \"min\": 422,\n        \"max\": 451,\n        \"num_unique_values\": 3,\n        \"samples\": [\n          448\n        ],\n        \"semantic_type\": \"\",\n        \"description\": \"\"\n      }\n    },\n    {\n      \"column\": \"Categor\\u00eda con menor Ingreso\",\n      \"properties\": {\n        \"dtype\": \"category\",\n        \"num_unique_values\": 1,\n        \"samples\": [\n          \"Libros\"\n        ],\n        \"semantic_type\": \"\",\n        \"description\": \"\"\n      }\n    },\n    {\n      \"column\": \"Ingreso Total (min)\",\n      \"properties\": {\n        \"dtype\": \"number\",\n        \"std\": 538433.5389194597,\n        \"min\": 8784900.0,\n        \"max\": 10091200.0,\n        \"num_unique_values\": 4,\n        \"samples\": [\n          10091200.0\n        ],\n        \"semantic_type\": \"\",\n        \"description\": \"\"\n      }\n    },\n    {\n      \"column\": \"Ventas de la categor\\u00eda (min)\",\n      \"properties\": {\n        \"dtype\": \"number\",\n        \"std\": 9,\n        \"min\": 173,\n        \"max\": 197,\n        \"num_unique_values\": 4,\n        \"samples\": [\n          197\n        ],\n        \"semantic_type\": \"\",\n        \"description\": \"\"\n      }\n    },\n    {\n      \"column\": \"Categor\\u00eda con mayor ventas\",\n      \"properties\": {\n        \"dtype\": \"category\",\n        \"num_unique_values\": 1,\n        \"samples\": [\n          \"Muebles\"\n        ],\n        \"semantic_type\": \"\",\n        \"description\": \"\"\n      }\n    },\n    {\n      \"column\": \"Ventas (max)\",\n      \"properties\": {\n        \"dtype\": \"number\",\n        \"std\": 24,\n        \"min\": 442,\n        \"max\": 499,\n        \"num_unique_values\": 4,\n        \"samples\": [\n          442\n        ],\n        \"semantic_type\": \"\",\n        \"description\": \"\"\n      }\n    },\n    {\n      \"column\": \"Ingreso de la categor\\u00eda (max)\",\n      \"properties\": {\n        \"dtype\": \"number\",\n        \"std\": 10286944.974902252,\n        \"min\": 176426300.0,\n        \"max\": 201072100.0,\n        \"num_unique_values\": 4,\n        \"samples\": [\n          176426300.0\n        ],\n        \"semantic_type\": \"\",\n        \"description\": \"\"\n      }\n    },\n    {\n      \"column\": \"Categor\\u00eda con menor ventas\",\n      \"properties\": {\n        \"dtype\": \"string\",\n        \"num_unique_values\": 2,\n        \"samples\": [\n          \"Instrumentos musicales\"\n        ],\n        \"semantic_type\": \"\",\n        \"description\": \"\"\n      }\n    },\n    {\n      \"column\": \"Ventas (min)\",\n      \"properties\": {\n        \"dtype\": \"number\",\n        \"std\": 5,\n        \"min\": 170,\n        \"max\": 181,\n        \"num_unique_values\": 4,\n        \"samples\": [\n          181\n        ],\n        \"semantic_type\": \"\",\n        \"description\": \"\"\n      }\n    },\n    {\n      \"column\": \"Ingreso de la categor\\u00eda (min)\",\n      \"properties\": {\n        \"dtype\": \"number\",\n        \"std\": 30484978.44899736,\n        \"min\": 12698400.0,\n        \"max\": 75102400.0,\n        \"num_unique_values\": 4,\n        \"samples\": [\n          14746900.0\n        ],\n        \"semantic_type\": \"\",\n        \"description\": \"\"\n      }\n    }\n  ]\n}"
            }
          },
          "metadata": {},
          "execution_count": 65
        }
      ]
    },
    {
      "cell_type": "markdown",
      "source": [
        "En la tabla anterior [(tablaDatosCategoria)](https://colab.research.google.com/github/BjorkMagno/Portafolio/blob/main/challenge-para-decidir-venta/AluraStoreLatam.ipynb#scrollTo=lKJ8MKUjZAr_&line=1&uniqifier=1) se observa que todas las tienedas tiene como mayor ingreso la categoría de **Electrónicos** y con mayores ventas **Muebles**. Es importante recalcar que los ingresos no siempre son lo más importante, ya que no sabemos los ingresos de costos para la tienda. Esto no implica que las mayores ventas importen pero al tener una vista más completa de las categorías más populares podemos ver que tienda vende más según la categoría popular.\n",
        "\n",
        "En la grafíca [(Categorías más populares)](https://colab.research.google.com/github/BjorkMagno/Portafolio/blob/main/challenge-para-decidir-venta/AluraStoreLatam.ipynb#scrollTo=kNxwjVlxSSEO&line=3&uniqifier=1) se puede observar que las categorías más populares son:\n",
        "\n",
        "1. Muebles\n",
        "1. Electrónicos\n",
        "1. Juguetes\n",
        "1. Electrodomésticos\n",
        "\n",
        "Podemos ver de los datos que la ctegoría de electrónicos es la segunda ctegoría con más ventas y la mayor categoría de ventas. Además podemos ver que las ventas son similares."
      ],
      "metadata": {
        "id": "4RE3emcKqkjQ"
      }
    },
    {
      "cell_type": "code",
      "source": [
        "myexplode = [0,0.1,0,0]\n",
        "pieTiendas(tablaDatosCategoria,'Ventas (max)', 'Ventas de Muebles (max)', myexplode)"
      ],
      "metadata": {
        "colab": {
          "base_uri": "https://localhost:8080/",
          "height": 435
        },
        "id": "domkUDFp-NdT",
        "outputId": "09008006-c968-45b4-bc78-2c66125997a5"
      },
      "execution_count": 94,
      "outputs": [
        {
          "output_type": "display_data",
          "data": {
            "text/plain": [
              "<Figure size 640x480 with 1 Axes>"
            ],
            "image/png": "[encoded data removed]"
          },
          "metadata": {}
        }
      ]
    },
    {
      "cell_type": "markdown",
      "source": [],
      "metadata": {
        "id": "32Dui3BL8A_P"
      }
    },
    {
      "cell_type": "code",
      "source": [],
      "metadata": {
        "id": "C7pj7rTmnGQE"
      },
      "execution_count": null,
      "outputs": []
    },
    {
      "cell_type": "code",
      "source": [
        "pieVentaMm(tablaDatosVentas,'Tienda 1','Ventas de Tienda 1')\n",
        "pieIngresoMm(tablaDatosIngresos,'Tienda 1','Ingresos de Tienda 1')"
      ],
      "metadata": {
        "colab": {
          "base_uri": "https://localhost:8080/",
          "height": 839
        },
        "id": "7WrK4HK5Jpn-",
        "outputId": "2212b1d6-1eb2-48be-e58b-6afb426c4fdc"
      },
      "execution_count": null,
      "outputs": [
        {
          "output_type": "display_data",
          "data": {
            "text/plain": [
              "<Figure size 640x480 with 1 Axes>"
            ],
            "image/png": "[encoded data removed]"
          },
          "metadata": {}
        },
        {
          "output_type": "display_data",
          "data": {
            "text/plain": [
              "<Figure size 640x480 with 1 Axes>"
            ],
            "image/png": "[encoded data removed]"
          },
          "metadata": {}
        }
      ]
    },
    {
      "cell_type": "code",
      "source": [
        "countColors = 0\n",
        "for tienda in tiendas:\n",
        "  distrubucionUbicacion(tienda,mycolors[countColors])\n",
        "  countColors += 1"
      ],
      "metadata": {
        "colab": {
          "base_uri": "https://localhost:8080/",
          "height": 1000
        },
        "id": "K8SD1AUmGDwi",
        "outputId": "e3f4cf95-98f3-48eb-d90d-236583322add"
      },
      "execution_count": 92,
      "outputs": [
        {
          "output_type": "display_data",
          "data": {
            "text/plain": [
              "<Figure size 640x480 with 1 Axes>"
            ],
            "image/png": "[encoded data removed]"
          },
          "metadata": {}
        },
        {
          "output_type": "display_data",
          "data": {
            "text/plain": [
              "<Figure size 640x480 with 1 Axes>"
            ],
            "image/png": "[encoded data removed]"
          },
          "metadata": {}
        },
        {
          "output_type": "display_data",
          "data": {
            "text/plain": [
              "<Figure size 640x480 with 1 Axes>"
            ],
            "image/png": "[encoded data removed]"
          },
          "metadata": {}
        },
        {
          "output_type": "display_data",
          "data": {
            "text/plain": [
              "<Figure size 640x480 with 1 Axes>"
            ],
            "image/png": "[encoded data removed]"
          },
          "metadata": {}
        }
      ]
    }
  ]
}